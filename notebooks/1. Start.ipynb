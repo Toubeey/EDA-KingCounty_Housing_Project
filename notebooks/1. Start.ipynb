{
 "cells": [
  {
   "cell_type": "markdown",
   "id": "a080c6f0-d947-4511-aab3-cca4f71b4f47",
   "metadata": {
    "tags": []
   },
   "source": [
    "New repository from template\n",
    "\n",
    "- A well documented Jupyter Notebook (see here for an example) containing the code you've written for this project and comments explaining it. This work will need to be pushed to your GitHub repository in order to submit your project. Do not push all the analysis... just the analysis that is relevant!\n",
    " - An organized README.md file in the GitHub repository that describes the contents of the repository. This file should be the source of information for navigating through the repository.\n",
    "- A short Keynote/PowerPoint/Google Slides/Jupyter slides presentation giving a high-level overview of your methodology and recommendations for non-technical stakeholders. The duration of the presentation should be 10 minutes, then the discussion will continue for 5 minutes. Also put your slides (delivered as a PDF export) on Github to get a well-rounded project.\n",
    "- Optional - A Python script for training the model, printing out the model statistics and saving the model. Look at this stackoverflow discussion on how to save a statsmodel."
   ]
  },
  {
   "cell_type": "code",
   "execution_count": 69,
   "id": "426c18e5-3218-463a-83d1-49891223263d",
   "metadata": {},
   "outputs": [],
   "source": [
    "import pandas as pd\n",
    "\n",
    "import matplotlib.pyplot as plt\n",
    "import seaborn as sns\n",
    "import plotly.express as px\n",
    "import altair as alt\n",
    "import numpy as np\n",
    "\n",
    "from scipy import stats\n",
    "\n",
    "%matplotlib inline\n",
    "\n",
    "#Display all columns in following lists\n",
    "pd.set_option('display.max_columns', None)"
   ]
  },
  {
   "cell_type": "markdown",
   "id": "99182567-26f7-4743-bfa7-8c5ff07ae683",
   "metadata": {},
   "source": [
    "Exercise: \n",
    "Find results from the King County house prices dataset for a relevant Stakeholder.\n",
    "Present the results in a nice format.\n",
    "\n",
    "Stakeholder:\n",
    "-  Thomas Hansen (Buyer)\n",
    "    - 5 kids\n",
    "    - no money\n",
    "    - wants nice (social) neighbourhood\n",
    "    - Timing?\n",
    "    - Location?\n",
    "\n",
    "Ideas for results:\n",
    "- show map with relevant houses\n",
    "- show list of relevant houses with relevant data, e.g. #bedrooms, #bathrooms, price, neighbourhood / location, timing, footage\n",
    "- optional: grade, condition"
   ]
  },
  {
   "cell_type": "code",
   "execution_count": 188,
   "id": "94f0e009-69f3-4a85-b392-0f76d5368d81",
   "metadata": {},
   "outputs": [
    {
     "data": {
      "text/html": [
       "<div>\n",
       "<style scoped>\n",
       "    .dataframe tbody tr th:only-of-type {\n",
       "        vertical-align: middle;\n",
       "    }\n",
       "\n",
       "    .dataframe tbody tr th {\n",
       "        vertical-align: top;\n",
       "    }\n",
       "\n",
       "    .dataframe thead th {\n",
       "        text-align: right;\n",
       "    }\n",
       "</style>\n",
       "<table border=\"1\" class=\"dataframe\">\n",
       "  <thead>\n",
       "    <tr style=\"text-align: right;\">\n",
       "      <th></th>\n",
       "      <th>id</th>\n",
       "      <th>date</th>\n",
       "      <th>price</th>\n",
       "      <th>bedrooms</th>\n",
       "      <th>bathrooms</th>\n",
       "      <th>sqft_living</th>\n",
       "      <th>sqft_lot</th>\n",
       "      <th>floors</th>\n",
       "      <th>waterfront</th>\n",
       "      <th>view</th>\n",
       "      <th>condition</th>\n",
       "      <th>grade</th>\n",
       "      <th>sqft_above</th>\n",
       "      <th>sqft_basement</th>\n",
       "      <th>yr_built</th>\n",
       "      <th>yr_renovated</th>\n",
       "      <th>zipcode</th>\n",
       "      <th>lat</th>\n",
       "      <th>long</th>\n",
       "      <th>sqft_living15</th>\n",
       "      <th>sqft_lot15</th>\n",
       "    </tr>\n",
       "  </thead>\n",
       "  <tbody>\n",
       "    <tr>\n",
       "      <th>0</th>\n",
       "      <td>7129300520</td>\n",
       "      <td>10/13/2014</td>\n",
       "      <td>221900.0</td>\n",
       "      <td>3</td>\n",
       "      <td>1.00</td>\n",
       "      <td>1180</td>\n",
       "      <td>5650</td>\n",
       "      <td>1.0</td>\n",
       "      <td>NaN</td>\n",
       "      <td>0.0</td>\n",
       "      <td>3</td>\n",
       "      <td>7</td>\n",
       "      <td>1180</td>\n",
       "      <td>0.0</td>\n",
       "      <td>1955</td>\n",
       "      <td>0.0</td>\n",
       "      <td>98178</td>\n",
       "      <td>47.5112</td>\n",
       "      <td>-122.257</td>\n",
       "      <td>1340</td>\n",
       "      <td>5650</td>\n",
       "    </tr>\n",
       "    <tr>\n",
       "      <th>1</th>\n",
       "      <td>6414100192</td>\n",
       "      <td>12/9/2014</td>\n",
       "      <td>538000.0</td>\n",
       "      <td>3</td>\n",
       "      <td>2.25</td>\n",
       "      <td>2570</td>\n",
       "      <td>7242</td>\n",
       "      <td>2.0</td>\n",
       "      <td>0.0</td>\n",
       "      <td>0.0</td>\n",
       "      <td>3</td>\n",
       "      <td>7</td>\n",
       "      <td>2170</td>\n",
       "      <td>400.0</td>\n",
       "      <td>1951</td>\n",
       "      <td>1991.0</td>\n",
       "      <td>98125</td>\n",
       "      <td>47.7210</td>\n",
       "      <td>-122.319</td>\n",
       "      <td>1690</td>\n",
       "      <td>7639</td>\n",
       "    </tr>\n",
       "    <tr>\n",
       "      <th>2</th>\n",
       "      <td>5631500400</td>\n",
       "      <td>2/25/2015</td>\n",
       "      <td>180000.0</td>\n",
       "      <td>2</td>\n",
       "      <td>1.00</td>\n",
       "      <td>770</td>\n",
       "      <td>10000</td>\n",
       "      <td>1.0</td>\n",
       "      <td>0.0</td>\n",
       "      <td>0.0</td>\n",
       "      <td>3</td>\n",
       "      <td>6</td>\n",
       "      <td>770</td>\n",
       "      <td>0.0</td>\n",
       "      <td>1933</td>\n",
       "      <td>NaN</td>\n",
       "      <td>98028</td>\n",
       "      <td>47.7379</td>\n",
       "      <td>-122.233</td>\n",
       "      <td>2720</td>\n",
       "      <td>8062</td>\n",
       "    </tr>\n",
       "    <tr>\n",
       "      <th>3</th>\n",
       "      <td>2487200875</td>\n",
       "      <td>12/9/2014</td>\n",
       "      <td>604000.0</td>\n",
       "      <td>4</td>\n",
       "      <td>3.00</td>\n",
       "      <td>1960</td>\n",
       "      <td>5000</td>\n",
       "      <td>1.0</td>\n",
       "      <td>0.0</td>\n",
       "      <td>0.0</td>\n",
       "      <td>5</td>\n",
       "      <td>7</td>\n",
       "      <td>1050</td>\n",
       "      <td>910.0</td>\n",
       "      <td>1965</td>\n",
       "      <td>0.0</td>\n",
       "      <td>98136</td>\n",
       "      <td>47.5208</td>\n",
       "      <td>-122.393</td>\n",
       "      <td>1360</td>\n",
       "      <td>5000</td>\n",
       "    </tr>\n",
       "    <tr>\n",
       "      <th>4</th>\n",
       "      <td>1954400510</td>\n",
       "      <td>2/18/2015</td>\n",
       "      <td>510000.0</td>\n",
       "      <td>3</td>\n",
       "      <td>2.00</td>\n",
       "      <td>1680</td>\n",
       "      <td>8080</td>\n",
       "      <td>1.0</td>\n",
       "      <td>0.0</td>\n",
       "      <td>0.0</td>\n",
       "      <td>3</td>\n",
       "      <td>8</td>\n",
       "      <td>1680</td>\n",
       "      <td>0.0</td>\n",
       "      <td>1987</td>\n",
       "      <td>0.0</td>\n",
       "      <td>98074</td>\n",
       "      <td>47.6168</td>\n",
       "      <td>-122.045</td>\n",
       "      <td>1800</td>\n",
       "      <td>7503</td>\n",
       "    </tr>\n",
       "    <tr>\n",
       "      <th>...</th>\n",
       "      <td>...</td>\n",
       "      <td>...</td>\n",
       "      <td>...</td>\n",
       "      <td>...</td>\n",
       "      <td>...</td>\n",
       "      <td>...</td>\n",
       "      <td>...</td>\n",
       "      <td>...</td>\n",
       "      <td>...</td>\n",
       "      <td>...</td>\n",
       "      <td>...</td>\n",
       "      <td>...</td>\n",
       "      <td>...</td>\n",
       "      <td>...</td>\n",
       "      <td>...</td>\n",
       "      <td>...</td>\n",
       "      <td>...</td>\n",
       "      <td>...</td>\n",
       "      <td>...</td>\n",
       "      <td>...</td>\n",
       "      <td>...</td>\n",
       "    </tr>\n",
       "    <tr>\n",
       "      <th>21592</th>\n",
       "      <td>263000018</td>\n",
       "      <td>5/21/2014</td>\n",
       "      <td>360000.0</td>\n",
       "      <td>3</td>\n",
       "      <td>2.50</td>\n",
       "      <td>1530</td>\n",
       "      <td>1131</td>\n",
       "      <td>3.0</td>\n",
       "      <td>0.0</td>\n",
       "      <td>0.0</td>\n",
       "      <td>3</td>\n",
       "      <td>8</td>\n",
       "      <td>1530</td>\n",
       "      <td>0.0</td>\n",
       "      <td>2009</td>\n",
       "      <td>0.0</td>\n",
       "      <td>98103</td>\n",
       "      <td>47.6993</td>\n",
       "      <td>-122.346</td>\n",
       "      <td>1530</td>\n",
       "      <td>1509</td>\n",
       "    </tr>\n",
       "    <tr>\n",
       "      <th>21593</th>\n",
       "      <td>6600060120</td>\n",
       "      <td>2/23/2015</td>\n",
       "      <td>400000.0</td>\n",
       "      <td>4</td>\n",
       "      <td>2.50</td>\n",
       "      <td>2310</td>\n",
       "      <td>5813</td>\n",
       "      <td>2.0</td>\n",
       "      <td>0.0</td>\n",
       "      <td>0.0</td>\n",
       "      <td>3</td>\n",
       "      <td>8</td>\n",
       "      <td>2310</td>\n",
       "      <td>0.0</td>\n",
       "      <td>2014</td>\n",
       "      <td>0.0</td>\n",
       "      <td>98146</td>\n",
       "      <td>47.5107</td>\n",
       "      <td>-122.362</td>\n",
       "      <td>1830</td>\n",
       "      <td>7200</td>\n",
       "    </tr>\n",
       "    <tr>\n",
       "      <th>21594</th>\n",
       "      <td>1523300141</td>\n",
       "      <td>6/23/2014</td>\n",
       "      <td>402101.0</td>\n",
       "      <td>2</td>\n",
       "      <td>0.75</td>\n",
       "      <td>1020</td>\n",
       "      <td>1350</td>\n",
       "      <td>2.0</td>\n",
       "      <td>0.0</td>\n",
       "      <td>0.0</td>\n",
       "      <td>3</td>\n",
       "      <td>7</td>\n",
       "      <td>1020</td>\n",
       "      <td>0.0</td>\n",
       "      <td>2009</td>\n",
       "      <td>0.0</td>\n",
       "      <td>98144</td>\n",
       "      <td>47.5944</td>\n",
       "      <td>-122.299</td>\n",
       "      <td>1020</td>\n",
       "      <td>2007</td>\n",
       "    </tr>\n",
       "    <tr>\n",
       "      <th>21595</th>\n",
       "      <td>291310100</td>\n",
       "      <td>1/16/2015</td>\n",
       "      <td>400000.0</td>\n",
       "      <td>3</td>\n",
       "      <td>2.50</td>\n",
       "      <td>1600</td>\n",
       "      <td>2388</td>\n",
       "      <td>2.0</td>\n",
       "      <td>NaN</td>\n",
       "      <td>0.0</td>\n",
       "      <td>3</td>\n",
       "      <td>8</td>\n",
       "      <td>1600</td>\n",
       "      <td>0.0</td>\n",
       "      <td>2004</td>\n",
       "      <td>0.0</td>\n",
       "      <td>98027</td>\n",
       "      <td>47.5345</td>\n",
       "      <td>-122.069</td>\n",
       "      <td>1410</td>\n",
       "      <td>1287</td>\n",
       "    </tr>\n",
       "    <tr>\n",
       "      <th>21596</th>\n",
       "      <td>1523300157</td>\n",
       "      <td>10/15/2014</td>\n",
       "      <td>325000.0</td>\n",
       "      <td>2</td>\n",
       "      <td>0.75</td>\n",
       "      <td>1020</td>\n",
       "      <td>1076</td>\n",
       "      <td>2.0</td>\n",
       "      <td>0.0</td>\n",
       "      <td>0.0</td>\n",
       "      <td>3</td>\n",
       "      <td>7</td>\n",
       "      <td>1020</td>\n",
       "      <td>0.0</td>\n",
       "      <td>2008</td>\n",
       "      <td>0.0</td>\n",
       "      <td>98144</td>\n",
       "      <td>47.5941</td>\n",
       "      <td>-122.299</td>\n",
       "      <td>1020</td>\n",
       "      <td>1357</td>\n",
       "    </tr>\n",
       "  </tbody>\n",
       "</table>\n",
       "<p>21597 rows × 21 columns</p>\n",
       "</div>"
      ],
      "text/plain": [
       "               id        date     price  bedrooms  bathrooms  sqft_living  \\\n",
       "0      7129300520  10/13/2014  221900.0         3       1.00         1180   \n",
       "1      6414100192   12/9/2014  538000.0         3       2.25         2570   \n",
       "2      5631500400   2/25/2015  180000.0         2       1.00          770   \n",
       "3      2487200875   12/9/2014  604000.0         4       3.00         1960   \n",
       "4      1954400510   2/18/2015  510000.0         3       2.00         1680   \n",
       "...           ...         ...       ...       ...        ...          ...   \n",
       "21592   263000018   5/21/2014  360000.0         3       2.50         1530   \n",
       "21593  6600060120   2/23/2015  400000.0         4       2.50         2310   \n",
       "21594  1523300141   6/23/2014  402101.0         2       0.75         1020   \n",
       "21595   291310100   1/16/2015  400000.0         3       2.50         1600   \n",
       "21596  1523300157  10/15/2014  325000.0         2       0.75         1020   \n",
       "\n",
       "       sqft_lot  floors  waterfront  view  condition  grade  sqft_above  \\\n",
       "0          5650     1.0         NaN   0.0          3      7        1180   \n",
       "1          7242     2.0         0.0   0.0          3      7        2170   \n",
       "2         10000     1.0         0.0   0.0          3      6         770   \n",
       "3          5000     1.0         0.0   0.0          5      7        1050   \n",
       "4          8080     1.0         0.0   0.0          3      8        1680   \n",
       "...         ...     ...         ...   ...        ...    ...         ...   \n",
       "21592      1131     3.0         0.0   0.0          3      8        1530   \n",
       "21593      5813     2.0         0.0   0.0          3      8        2310   \n",
       "21594      1350     2.0         0.0   0.0          3      7        1020   \n",
       "21595      2388     2.0         NaN   0.0          3      8        1600   \n",
       "21596      1076     2.0         0.0   0.0          3      7        1020   \n",
       "\n",
       "      sqft_basement  yr_built  yr_renovated  zipcode      lat     long  \\\n",
       "0               0.0      1955           0.0    98178  47.5112 -122.257   \n",
       "1             400.0      1951        1991.0    98125  47.7210 -122.319   \n",
       "2               0.0      1933           NaN    98028  47.7379 -122.233   \n",
       "3             910.0      1965           0.0    98136  47.5208 -122.393   \n",
       "4               0.0      1987           0.0    98074  47.6168 -122.045   \n",
       "...             ...       ...           ...      ...      ...      ...   \n",
       "21592           0.0      2009           0.0    98103  47.6993 -122.346   \n",
       "21593           0.0      2014           0.0    98146  47.5107 -122.362   \n",
       "21594           0.0      2009           0.0    98144  47.5944 -122.299   \n",
       "21595           0.0      2004           0.0    98027  47.5345 -122.069   \n",
       "21596           0.0      2008           0.0    98144  47.5941 -122.299   \n",
       "\n",
       "       sqft_living15  sqft_lot15  \n",
       "0               1340        5650  \n",
       "1               1690        7639  \n",
       "2               2720        8062  \n",
       "3               1360        5000  \n",
       "4               1800        7503  \n",
       "...              ...         ...  \n",
       "21592           1530        1509  \n",
       "21593           1830        7200  \n",
       "21594           1020        2007  \n",
       "21595           1410        1287  \n",
       "21596           1020        1357  \n",
       "\n",
       "[21597 rows x 21 columns]"
      ]
     },
     "execution_count": 188,
     "metadata": {},
     "output_type": "execute_result"
    }
   ],
   "source": [
    "#Read CSV file with relevant data\n",
    "data = pd.read_csv('../data/King_County_House_prices_dataset.csv')\n",
    "\n",
    "#Describe percentiles and other key values to get an overview of the data\n",
    "data"
   ]
  },
  {
   "cell_type": "code",
   "execution_count": 135,
   "id": "c349cbac-65e6-46f5-b4be-3d9e9f758398",
   "metadata": {},
   "outputs": [
    {
     "data": {
      "text/html": [
       "<div>\n",
       "<style scoped>\n",
       "    .dataframe tbody tr th:only-of-type {\n",
       "        vertical-align: middle;\n",
       "    }\n",
       "\n",
       "    .dataframe tbody tr th {\n",
       "        vertical-align: top;\n",
       "    }\n",
       "\n",
       "    .dataframe thead th {\n",
       "        text-align: right;\n",
       "    }\n",
       "</style>\n",
       "<table border=\"1\" class=\"dataframe\">\n",
       "  <thead>\n",
       "    <tr style=\"text-align: right;\">\n",
       "      <th></th>\n",
       "      <th>id</th>\n",
       "      <th>date</th>\n",
       "      <th>price</th>\n",
       "      <th>bedrooms</th>\n",
       "      <th>bathrooms</th>\n",
       "      <th>sqft_living</th>\n",
       "      <th>sqft_lot</th>\n",
       "      <th>floors</th>\n",
       "      <th>waterfront</th>\n",
       "      <th>view</th>\n",
       "      <th>condition</th>\n",
       "      <th>grade</th>\n",
       "      <th>sqft_above</th>\n",
       "      <th>sqft_basement</th>\n",
       "      <th>yr_built</th>\n",
       "      <th>yr_renovated</th>\n",
       "      <th>zipcode</th>\n",
       "      <th>lat</th>\n",
       "      <th>long</th>\n",
       "      <th>sqft_living15</th>\n",
       "      <th>sqft_lot15</th>\n",
       "      <th>month_sold</th>\n",
       "      <th>year_sold</th>\n",
       "    </tr>\n",
       "  </thead>\n",
       "  <tbody>\n",
       "    <tr>\n",
       "      <th>157</th>\n",
       "      <td>8731900200</td>\n",
       "      <td>2014-08-07</td>\n",
       "      <td>320000.0</td>\n",
       "      <td>4</td>\n",
       "      <td>2.75</td>\n",
       "      <td>2640</td>\n",
       "      <td>7500</td>\n",
       "      <td>1.0</td>\n",
       "      <td>0.0</td>\n",
       "      <td>0.0</td>\n",
       "      <td>3</td>\n",
       "      <td>8</td>\n",
       "      <td>1620</td>\n",
       "      <td>1020.0</td>\n",
       "      <td>1967</td>\n",
       "      <td>0.0</td>\n",
       "      <td>98023</td>\n",
       "      <td>47.3135</td>\n",
       "      <td>-122.369</td>\n",
       "      <td>1980</td>\n",
       "      <td>7875</td>\n",
       "      <td>8</td>\n",
       "      <td>2014</td>\n",
       "    </tr>\n",
       "    <tr>\n",
       "      <th>232</th>\n",
       "      <td>9264902050</td>\n",
       "      <td>2014-11-21</td>\n",
       "      <td>315000.0</td>\n",
       "      <td>6</td>\n",
       "      <td>2.75</td>\n",
       "      <td>2940</td>\n",
       "      <td>7350</td>\n",
       "      <td>1.0</td>\n",
       "      <td>0.0</td>\n",
       "      <td>0.0</td>\n",
       "      <td>3</td>\n",
       "      <td>8</td>\n",
       "      <td>1780</td>\n",
       "      <td>1160.0</td>\n",
       "      <td>1978</td>\n",
       "      <td>0.0</td>\n",
       "      <td>98023</td>\n",
       "      <td>47.3103</td>\n",
       "      <td>-122.339</td>\n",
       "      <td>2120</td>\n",
       "      <td>8236</td>\n",
       "      <td>11</td>\n",
       "      <td>2014</td>\n",
       "    </tr>\n",
       "    <tr>\n",
       "      <th>1255</th>\n",
       "      <td>3832711040</td>\n",
       "      <td>2015-04-24</td>\n",
       "      <td>321000.0</td>\n",
       "      <td>5</td>\n",
       "      <td>2.75</td>\n",
       "      <td>3030</td>\n",
       "      <td>7000</td>\n",
       "      <td>1.0</td>\n",
       "      <td>0.0</td>\n",
       "      <td>0.0</td>\n",
       "      <td>4</td>\n",
       "      <td>7</td>\n",
       "      <td>1540</td>\n",
       "      <td>1490.0</td>\n",
       "      <td>1978</td>\n",
       "      <td>NaN</td>\n",
       "      <td>98032</td>\n",
       "      <td>47.3661</td>\n",
       "      <td>-122.280</td>\n",
       "      <td>1790</td>\n",
       "      <td>7330</td>\n",
       "      <td>4</td>\n",
       "      <td>2015</td>\n",
       "    </tr>\n",
       "    <tr>\n",
       "      <th>1853</th>\n",
       "      <td>6699000810</td>\n",
       "      <td>2014-08-13</td>\n",
       "      <td>315000.0</td>\n",
       "      <td>5</td>\n",
       "      <td>2.50</td>\n",
       "      <td>3220</td>\n",
       "      <td>5751</td>\n",
       "      <td>2.0</td>\n",
       "      <td>0.0</td>\n",
       "      <td>0.0</td>\n",
       "      <td>3</td>\n",
       "      <td>8</td>\n",
       "      <td>3220</td>\n",
       "      <td>0.0</td>\n",
       "      <td>2002</td>\n",
       "      <td>0.0</td>\n",
       "      <td>98042</td>\n",
       "      <td>47.3717</td>\n",
       "      <td>-122.104</td>\n",
       "      <td>2740</td>\n",
       "      <td>5500</td>\n",
       "      <td>8</td>\n",
       "      <td>2014</td>\n",
       "    </tr>\n",
       "    <tr>\n",
       "      <th>1924</th>\n",
       "      <td>7316400070</td>\n",
       "      <td>2014-09-25</td>\n",
       "      <td>255000.0</td>\n",
       "      <td>5</td>\n",
       "      <td>3.75</td>\n",
       "      <td>2800</td>\n",
       "      <td>9900</td>\n",
       "      <td>1.0</td>\n",
       "      <td>0.0</td>\n",
       "      <td>0.0</td>\n",
       "      <td>3</td>\n",
       "      <td>7</td>\n",
       "      <td>2800</td>\n",
       "      <td>0.0</td>\n",
       "      <td>1964</td>\n",
       "      <td>NaN</td>\n",
       "      <td>98023</td>\n",
       "      <td>47.3190</td>\n",
       "      <td>-122.344</td>\n",
       "      <td>1700</td>\n",
       "      <td>13200</td>\n",
       "      <td>9</td>\n",
       "      <td>2014</td>\n",
       "    </tr>\n",
       "    <tr>\n",
       "      <th>...</th>\n",
       "      <td>...</td>\n",
       "      <td>...</td>\n",
       "      <td>...</td>\n",
       "      <td>...</td>\n",
       "      <td>...</td>\n",
       "      <td>...</td>\n",
       "      <td>...</td>\n",
       "      <td>...</td>\n",
       "      <td>...</td>\n",
       "      <td>...</td>\n",
       "      <td>...</td>\n",
       "      <td>...</td>\n",
       "      <td>...</td>\n",
       "      <td>...</td>\n",
       "      <td>...</td>\n",
       "      <td>...</td>\n",
       "      <td>...</td>\n",
       "      <td>...</td>\n",
       "      <td>...</td>\n",
       "      <td>...</td>\n",
       "      <td>...</td>\n",
       "      <td>...</td>\n",
       "      <td>...</td>\n",
       "    </tr>\n",
       "    <tr>\n",
       "      <th>20377</th>\n",
       "      <td>3021059304</td>\n",
       "      <td>2014-09-17</td>\n",
       "      <td>300000.0</td>\n",
       "      <td>6</td>\n",
       "      <td>3.00</td>\n",
       "      <td>2744</td>\n",
       "      <td>9926</td>\n",
       "      <td>2.0</td>\n",
       "      <td>0.0</td>\n",
       "      <td>0.0</td>\n",
       "      <td>3</td>\n",
       "      <td>7</td>\n",
       "      <td>2744</td>\n",
       "      <td>0.0</td>\n",
       "      <td>2006</td>\n",
       "      <td>NaN</td>\n",
       "      <td>98002</td>\n",
       "      <td>47.2773</td>\n",
       "      <td>-122.216</td>\n",
       "      <td>2470</td>\n",
       "      <td>9926</td>\n",
       "      <td>9</td>\n",
       "      <td>2014</td>\n",
       "    </tr>\n",
       "    <tr>\n",
       "      <th>20636</th>\n",
       "      <td>7883603648</td>\n",
       "      <td>2014-05-22</td>\n",
       "      <td>300000.0</td>\n",
       "      <td>5</td>\n",
       "      <td>2.50</td>\n",
       "      <td>2760</td>\n",
       "      <td>6000</td>\n",
       "      <td>2.0</td>\n",
       "      <td>0.0</td>\n",
       "      <td>0.0</td>\n",
       "      <td>3</td>\n",
       "      <td>8</td>\n",
       "      <td>2760</td>\n",
       "      <td>0.0</td>\n",
       "      <td>2006</td>\n",
       "      <td>0.0</td>\n",
       "      <td>98108</td>\n",
       "      <td>47.5289</td>\n",
       "      <td>-122.321</td>\n",
       "      <td>1360</td>\n",
       "      <td>6000</td>\n",
       "      <td>5</td>\n",
       "      <td>2014</td>\n",
       "    </tr>\n",
       "    <tr>\n",
       "      <th>20912</th>\n",
       "      <td>53500760</td>\n",
       "      <td>2014-12-08</td>\n",
       "      <td>287000.0</td>\n",
       "      <td>4</td>\n",
       "      <td>2.50</td>\n",
       "      <td>2660</td>\n",
       "      <td>4082</td>\n",
       "      <td>2.0</td>\n",
       "      <td>NaN</td>\n",
       "      <td>0.0</td>\n",
       "      <td>3</td>\n",
       "      <td>7</td>\n",
       "      <td>2660</td>\n",
       "      <td>0.0</td>\n",
       "      <td>2010</td>\n",
       "      <td>0.0</td>\n",
       "      <td>98042</td>\n",
       "      <td>47.3414</td>\n",
       "      <td>-122.055</td>\n",
       "      <td>2390</td>\n",
       "      <td>4876</td>\n",
       "      <td>12</td>\n",
       "      <td>2014</td>\n",
       "    </tr>\n",
       "    <tr>\n",
       "      <th>21139</th>\n",
       "      <td>4233800020</td>\n",
       "      <td>2014-10-08</td>\n",
       "      <td>270000.0</td>\n",
       "      <td>4</td>\n",
       "      <td>2.50</td>\n",
       "      <td>2701</td>\n",
       "      <td>5821</td>\n",
       "      <td>2.0</td>\n",
       "      <td>0.0</td>\n",
       "      <td>0.0</td>\n",
       "      <td>3</td>\n",
       "      <td>7</td>\n",
       "      <td>2701</td>\n",
       "      <td>0.0</td>\n",
       "      <td>2013</td>\n",
       "      <td>NaN</td>\n",
       "      <td>98092</td>\n",
       "      <td>47.2873</td>\n",
       "      <td>-122.177</td>\n",
       "      <td>2566</td>\n",
       "      <td>5843</td>\n",
       "      <td>10</td>\n",
       "      <td>2014</td>\n",
       "    </tr>\n",
       "    <tr>\n",
       "      <th>21170</th>\n",
       "      <td>7896300592</td>\n",
       "      <td>2015-01-14</td>\n",
       "      <td>303500.0</td>\n",
       "      <td>6</td>\n",
       "      <td>4.50</td>\n",
       "      <td>3390</td>\n",
       "      <td>7200</td>\n",
       "      <td>2.0</td>\n",
       "      <td>0.0</td>\n",
       "      <td>0.0</td>\n",
       "      <td>3</td>\n",
       "      <td>8</td>\n",
       "      <td>2440</td>\n",
       "      <td>950.0</td>\n",
       "      <td>2007</td>\n",
       "      <td>0.0</td>\n",
       "      <td>98118</td>\n",
       "      <td>47.5205</td>\n",
       "      <td>-122.288</td>\n",
       "      <td>2040</td>\n",
       "      <td>7214</td>\n",
       "      <td>1</td>\n",
       "      <td>2015</td>\n",
       "    </tr>\n",
       "  </tbody>\n",
       "</table>\n",
       "<p>66 rows × 23 columns</p>\n",
       "</div>"
      ],
      "text/plain": [
       "               id       date     price  bedrooms  bathrooms  sqft_living  \\\n",
       "157    8731900200 2014-08-07  320000.0         4       2.75         2640   \n",
       "232    9264902050 2014-11-21  315000.0         6       2.75         2940   \n",
       "1255   3832711040 2015-04-24  321000.0         5       2.75         3030   \n",
       "1853   6699000810 2014-08-13  315000.0         5       2.50         3220   \n",
       "1924   7316400070 2014-09-25  255000.0         5       3.75         2800   \n",
       "...           ...        ...       ...       ...        ...          ...   \n",
       "20377  3021059304 2014-09-17  300000.0         6       3.00         2744   \n",
       "20636  7883603648 2014-05-22  300000.0         5       2.50         2760   \n",
       "20912    53500760 2014-12-08  287000.0         4       2.50         2660   \n",
       "21139  4233800020 2014-10-08  270000.0         4       2.50         2701   \n",
       "21170  7896300592 2015-01-14  303500.0         6       4.50         3390   \n",
       "\n",
       "       sqft_lot  floors  waterfront  view  condition  grade  sqft_above  \\\n",
       "157        7500     1.0         0.0   0.0          3      8        1620   \n",
       "232        7350     1.0         0.0   0.0          3      8        1780   \n",
       "1255       7000     1.0         0.0   0.0          4      7        1540   \n",
       "1853       5751     2.0         0.0   0.0          3      8        3220   \n",
       "1924       9900     1.0         0.0   0.0          3      7        2800   \n",
       "...         ...     ...         ...   ...        ...    ...         ...   \n",
       "20377      9926     2.0         0.0   0.0          3      7        2744   \n",
       "20636      6000     2.0         0.0   0.0          3      8        2760   \n",
       "20912      4082     2.0         NaN   0.0          3      7        2660   \n",
       "21139      5821     2.0         0.0   0.0          3      7        2701   \n",
       "21170      7200     2.0         0.0   0.0          3      8        2440   \n",
       "\n",
       "      sqft_basement  yr_built  yr_renovated  zipcode      lat     long  \\\n",
       "157          1020.0      1967           0.0    98023  47.3135 -122.369   \n",
       "232          1160.0      1978           0.0    98023  47.3103 -122.339   \n",
       "1255         1490.0      1978           NaN    98032  47.3661 -122.280   \n",
       "1853            0.0      2002           0.0    98042  47.3717 -122.104   \n",
       "1924            0.0      1964           NaN    98023  47.3190 -122.344   \n",
       "...             ...       ...           ...      ...      ...      ...   \n",
       "20377           0.0      2006           NaN    98002  47.2773 -122.216   \n",
       "20636           0.0      2006           0.0    98108  47.5289 -122.321   \n",
       "20912           0.0      2010           0.0    98042  47.3414 -122.055   \n",
       "21139           0.0      2013           NaN    98092  47.2873 -122.177   \n",
       "21170         950.0      2007           0.0    98118  47.5205 -122.288   \n",
       "\n",
       "       sqft_living15  sqft_lot15  month_sold  year_sold  \n",
       "157             1980        7875           8       2014  \n",
       "232             2120        8236          11       2014  \n",
       "1255            1790        7330           4       2015  \n",
       "1853            2740        5500           8       2014  \n",
       "1924            1700       13200           9       2014  \n",
       "...              ...         ...         ...        ...  \n",
       "20377           2470        9926           9       2014  \n",
       "20636           1360        6000           5       2014  \n",
       "20912           2390        4876          12       2014  \n",
       "21139           2566        5843          10       2014  \n",
       "21170           2040        7214           1       2015  \n",
       "\n",
       "[66 rows x 23 columns]"
      ]
     },
     "execution_count": 135,
     "metadata": {},
     "output_type": "execute_result"
    }
   ],
   "source": [
    "# Stakeholder interests:\n",
    "#5 kids: Find data for house with at least 4? bedrooms and 2? bathrooms\n",
    "# No money: Get an overview of prices. Take data from cheapest X % of houses\n",
    "\n",
    "#Defining key values according to above interests:\n",
    "#First quartile of price is at 322,000. Filter data according to cheapest 25%.\n",
    "#Third quartile of bedrooms is at 4. Filter data according to above 75% percentile.\n",
    "#Third quartile of bathrooms is at 2.5. Filter data according to above 75% percentile.\n",
    "#Third quartile of sqft_living is at 2550. Filter data according to above 75% percentile.\n",
    "\n",
    "low25_bighouse = data.query('price <= price.describe()[\"25%\"] and bedrooms >= bedrooms.describe()[\"75%\"] and bathrooms >= bathrooms.describe()[\"75%\"] and sqft_living >= sqft_living.describe()[\"75%\"]')\n",
    "low25_bighouse\n",
    "\n",
    "#--> Only 66 houses are left"
   ]
  },
  {
   "cell_type": "markdown",
   "id": "8db1a780-32ef-4e36-9a40-55a7a6f56711",
   "metadata": {},
   "source": [
    "**With the above defined key values, we have 475 of 21597 houses left.**\n",
    "\n",
    "These 475 rows represent cheap and big houses (>= 2550 square feet) with 2.5 or more bathrooms and 4 or more bedrooms.\n",
    "\n",
    "As next step we should try to define the next open question of our stakeholder:\n",
    "1. What is a nice (and social) neighbourhood? (And to which location does this lead?)\n",
    "\n",
    "The houses in the neighbourhood  are only defined through two values:\n",
    "- sqft_living15 - The square footage of interior housing living space for the nearest 15 neighbors\n",
    "- sqft_lot15 - The square footage of the land lots of the nearest 15 neighbors\n",
    "\n",
    "**This does not help with our question. We should try to create new data.**\n",
    "\n",
    "- The word \"social\" indicates, that our stakeholder would like to have a higher quantity of houses in the area (people to talk to). \n",
    "Therefore we could add a column of \"houses_in_zip\" via checking the qty of rows in the same zipcode.\n",
    "\n",
    "- The word \"nice\" indicates, that the local houses (houses_in_zip) should be of good quality. \n",
    "We could check this for all local houses via the \"grade\" column: overall grade given to the housing unit, based on King County grading system.\n",
    "The higher the grade for nearby houses, the better (lowest is 3, highest is 13). Here we could use the median (or average grade) and add this as \"median_zip_grade\""
   ]
  },
  {
   "cell_type": "code",
   "execution_count": 81,
   "id": "c02cf4a4-a90f-4714-9542-140f1ffe3ac5",
   "metadata": {},
   "outputs": [
    {
     "data": {
      "text/html": [
       "<div>\n",
       "<style scoped>\n",
       "    .dataframe tbody tr th:only-of-type {\n",
       "        vertical-align: middle;\n",
       "    }\n",
       "\n",
       "    .dataframe tbody tr th {\n",
       "        vertical-align: top;\n",
       "    }\n",
       "\n",
       "    .dataframe thead th {\n",
       "        text-align: right;\n",
       "    }\n",
       "</style>\n",
       "<table border=\"1\" class=\"dataframe\">\n",
       "  <thead>\n",
       "    <tr style=\"text-align: right;\">\n",
       "      <th></th>\n",
       "      <th>id</th>\n",
       "      <th>date</th>\n",
       "      <th>price</th>\n",
       "      <th>bedrooms</th>\n",
       "      <th>bathrooms</th>\n",
       "      <th>sqft_living</th>\n",
       "      <th>sqft_lot</th>\n",
       "      <th>floors</th>\n",
       "      <th>waterfront</th>\n",
       "      <th>view</th>\n",
       "      <th>condition</th>\n",
       "      <th>grade</th>\n",
       "      <th>sqft_above</th>\n",
       "      <th>sqft_basement</th>\n",
       "      <th>yr_built</th>\n",
       "      <th>yr_renovated</th>\n",
       "      <th>zipcode</th>\n",
       "      <th>lat</th>\n",
       "      <th>long</th>\n",
       "      <th>sqft_living15</th>\n",
       "      <th>sqft_lot15</th>\n",
       "      <th>zip_counter</th>\n",
       "    </tr>\n",
       "  </thead>\n",
       "  <tbody>\n",
       "    <tr>\n",
       "      <th>0</th>\n",
       "      <td>8731900200</td>\n",
       "      <td>8/7/2014</td>\n",
       "      <td>320000.0</td>\n",
       "      <td>4</td>\n",
       "      <td>2.75</td>\n",
       "      <td>2640</td>\n",
       "      <td>7500</td>\n",
       "      <td>1.0</td>\n",
       "      <td>0.0</td>\n",
       "      <td>0.0</td>\n",
       "      <td>3</td>\n",
       "      <td>8</td>\n",
       "      <td>1620</td>\n",
       "      <td>1020.0</td>\n",
       "      <td>1967</td>\n",
       "      <td>0.0</td>\n",
       "      <td>98023</td>\n",
       "      <td>47.3135</td>\n",
       "      <td>-122.369</td>\n",
       "      <td>1980</td>\n",
       "      <td>7875</td>\n",
       "      <td>499</td>\n",
       "    </tr>\n",
       "    <tr>\n",
       "      <th>1</th>\n",
       "      <td>9264902050</td>\n",
       "      <td>11/21/2014</td>\n",
       "      <td>315000.0</td>\n",
       "      <td>6</td>\n",
       "      <td>2.75</td>\n",
       "      <td>2940</td>\n",
       "      <td>7350</td>\n",
       "      <td>1.0</td>\n",
       "      <td>0.0</td>\n",
       "      <td>0.0</td>\n",
       "      <td>3</td>\n",
       "      <td>8</td>\n",
       "      <td>1780</td>\n",
       "      <td>1160.0</td>\n",
       "      <td>1978</td>\n",
       "      <td>0.0</td>\n",
       "      <td>98023</td>\n",
       "      <td>47.3103</td>\n",
       "      <td>-122.339</td>\n",
       "      <td>2120</td>\n",
       "      <td>8236</td>\n",
       "      <td>499</td>\n",
       "    </tr>\n",
       "    <tr>\n",
       "      <th>2</th>\n",
       "      <td>3832711040</td>\n",
       "      <td>4/24/2015</td>\n",
       "      <td>321000.0</td>\n",
       "      <td>5</td>\n",
       "      <td>2.75</td>\n",
       "      <td>3030</td>\n",
       "      <td>7000</td>\n",
       "      <td>1.0</td>\n",
       "      <td>0.0</td>\n",
       "      <td>0.0</td>\n",
       "      <td>4</td>\n",
       "      <td>7</td>\n",
       "      <td>1540</td>\n",
       "      <td>1490.0</td>\n",
       "      <td>1978</td>\n",
       "      <td>NaN</td>\n",
       "      <td>98032</td>\n",
       "      <td>47.3661</td>\n",
       "      <td>-122.280</td>\n",
       "      <td>1790</td>\n",
       "      <td>7330</td>\n",
       "      <td>125</td>\n",
       "    </tr>\n",
       "    <tr>\n",
       "      <th>3</th>\n",
       "      <td>6699000810</td>\n",
       "      <td>8/13/2014</td>\n",
       "      <td>315000.0</td>\n",
       "      <td>5</td>\n",
       "      <td>2.50</td>\n",
       "      <td>3220</td>\n",
       "      <td>5751</td>\n",
       "      <td>2.0</td>\n",
       "      <td>0.0</td>\n",
       "      <td>0.0</td>\n",
       "      <td>3</td>\n",
       "      <td>8</td>\n",
       "      <td>3220</td>\n",
       "      <td>0.0</td>\n",
       "      <td>2002</td>\n",
       "      <td>0.0</td>\n",
       "      <td>98042</td>\n",
       "      <td>47.3717</td>\n",
       "      <td>-122.104</td>\n",
       "      <td>2740</td>\n",
       "      <td>5500</td>\n",
       "      <td>547</td>\n",
       "    </tr>\n",
       "    <tr>\n",
       "      <th>4</th>\n",
       "      <td>7316400070</td>\n",
       "      <td>9/25/2014</td>\n",
       "      <td>255000.0</td>\n",
       "      <td>5</td>\n",
       "      <td>3.75</td>\n",
       "      <td>2800</td>\n",
       "      <td>9900</td>\n",
       "      <td>1.0</td>\n",
       "      <td>0.0</td>\n",
       "      <td>0.0</td>\n",
       "      <td>3</td>\n",
       "      <td>7</td>\n",
       "      <td>2800</td>\n",
       "      <td>0.0</td>\n",
       "      <td>1964</td>\n",
       "      <td>NaN</td>\n",
       "      <td>98023</td>\n",
       "      <td>47.3190</td>\n",
       "      <td>-122.344</td>\n",
       "      <td>1700</td>\n",
       "      <td>13200</td>\n",
       "      <td>499</td>\n",
       "    </tr>\n",
       "    <tr>\n",
       "      <th>...</th>\n",
       "      <td>...</td>\n",
       "      <td>...</td>\n",
       "      <td>...</td>\n",
       "      <td>...</td>\n",
       "      <td>...</td>\n",
       "      <td>...</td>\n",
       "      <td>...</td>\n",
       "      <td>...</td>\n",
       "      <td>...</td>\n",
       "      <td>...</td>\n",
       "      <td>...</td>\n",
       "      <td>...</td>\n",
       "      <td>...</td>\n",
       "      <td>...</td>\n",
       "      <td>...</td>\n",
       "      <td>...</td>\n",
       "      <td>...</td>\n",
       "      <td>...</td>\n",
       "      <td>...</td>\n",
       "      <td>...</td>\n",
       "      <td>...</td>\n",
       "      <td>...</td>\n",
       "    </tr>\n",
       "    <tr>\n",
       "      <th>61</th>\n",
       "      <td>3021059304</td>\n",
       "      <td>9/17/2014</td>\n",
       "      <td>300000.0</td>\n",
       "      <td>6</td>\n",
       "      <td>3.00</td>\n",
       "      <td>2744</td>\n",
       "      <td>9926</td>\n",
       "      <td>2.0</td>\n",
       "      <td>0.0</td>\n",
       "      <td>0.0</td>\n",
       "      <td>3</td>\n",
       "      <td>7</td>\n",
       "      <td>2744</td>\n",
       "      <td>0.0</td>\n",
       "      <td>2006</td>\n",
       "      <td>NaN</td>\n",
       "      <td>98002</td>\n",
       "      <td>47.2773</td>\n",
       "      <td>-122.216</td>\n",
       "      <td>2470</td>\n",
       "      <td>9926</td>\n",
       "      <td>199</td>\n",
       "    </tr>\n",
       "    <tr>\n",
       "      <th>62</th>\n",
       "      <td>7883603648</td>\n",
       "      <td>5/22/2014</td>\n",
       "      <td>300000.0</td>\n",
       "      <td>5</td>\n",
       "      <td>2.50</td>\n",
       "      <td>2760</td>\n",
       "      <td>6000</td>\n",
       "      <td>2.0</td>\n",
       "      <td>0.0</td>\n",
       "      <td>0.0</td>\n",
       "      <td>3</td>\n",
       "      <td>8</td>\n",
       "      <td>2760</td>\n",
       "      <td>0.0</td>\n",
       "      <td>2006</td>\n",
       "      <td>0.0</td>\n",
       "      <td>98108</td>\n",
       "      <td>47.5289</td>\n",
       "      <td>-122.321</td>\n",
       "      <td>1360</td>\n",
       "      <td>6000</td>\n",
       "      <td>186</td>\n",
       "    </tr>\n",
       "    <tr>\n",
       "      <th>63</th>\n",
       "      <td>53500760</td>\n",
       "      <td>12/8/2014</td>\n",
       "      <td>287000.0</td>\n",
       "      <td>4</td>\n",
       "      <td>2.50</td>\n",
       "      <td>2660</td>\n",
       "      <td>4082</td>\n",
       "      <td>2.0</td>\n",
       "      <td>NaN</td>\n",
       "      <td>0.0</td>\n",
       "      <td>3</td>\n",
       "      <td>7</td>\n",
       "      <td>2660</td>\n",
       "      <td>0.0</td>\n",
       "      <td>2010</td>\n",
       "      <td>0.0</td>\n",
       "      <td>98042</td>\n",
       "      <td>47.3414</td>\n",
       "      <td>-122.055</td>\n",
       "      <td>2390</td>\n",
       "      <td>4876</td>\n",
       "      <td>547</td>\n",
       "    </tr>\n",
       "    <tr>\n",
       "      <th>64</th>\n",
       "      <td>4233800020</td>\n",
       "      <td>10/8/2014</td>\n",
       "      <td>270000.0</td>\n",
       "      <td>4</td>\n",
       "      <td>2.50</td>\n",
       "      <td>2701</td>\n",
       "      <td>5821</td>\n",
       "      <td>2.0</td>\n",
       "      <td>0.0</td>\n",
       "      <td>0.0</td>\n",
       "      <td>3</td>\n",
       "      <td>7</td>\n",
       "      <td>2701</td>\n",
       "      <td>0.0</td>\n",
       "      <td>2013</td>\n",
       "      <td>NaN</td>\n",
       "      <td>98092</td>\n",
       "      <td>47.2873</td>\n",
       "      <td>-122.177</td>\n",
       "      <td>2566</td>\n",
       "      <td>5843</td>\n",
       "      <td>351</td>\n",
       "    </tr>\n",
       "    <tr>\n",
       "      <th>65</th>\n",
       "      <td>7896300592</td>\n",
       "      <td>1/14/2015</td>\n",
       "      <td>303500.0</td>\n",
       "      <td>6</td>\n",
       "      <td>4.50</td>\n",
       "      <td>3390</td>\n",
       "      <td>7200</td>\n",
       "      <td>2.0</td>\n",
       "      <td>0.0</td>\n",
       "      <td>0.0</td>\n",
       "      <td>3</td>\n",
       "      <td>8</td>\n",
       "      <td>2440</td>\n",
       "      <td>950.0</td>\n",
       "      <td>2007</td>\n",
       "      <td>0.0</td>\n",
       "      <td>98118</td>\n",
       "      <td>47.5205</td>\n",
       "      <td>-122.288</td>\n",
       "      <td>2040</td>\n",
       "      <td>7214</td>\n",
       "      <td>507</td>\n",
       "    </tr>\n",
       "  </tbody>\n",
       "</table>\n",
       "<p>66 rows × 22 columns</p>\n",
       "</div>"
      ],
      "text/plain": [
       "            id        date     price  bedrooms  bathrooms  sqft_living  \\\n",
       "0   8731900200    8/7/2014  320000.0         4       2.75         2640   \n",
       "1   9264902050  11/21/2014  315000.0         6       2.75         2940   \n",
       "2   3832711040   4/24/2015  321000.0         5       2.75         3030   \n",
       "3   6699000810   8/13/2014  315000.0         5       2.50         3220   \n",
       "4   7316400070   9/25/2014  255000.0         5       3.75         2800   \n",
       "..         ...         ...       ...       ...        ...          ...   \n",
       "61  3021059304   9/17/2014  300000.0         6       3.00         2744   \n",
       "62  7883603648   5/22/2014  300000.0         5       2.50         2760   \n",
       "63    53500760   12/8/2014  287000.0         4       2.50         2660   \n",
       "64  4233800020   10/8/2014  270000.0         4       2.50         2701   \n",
       "65  7896300592   1/14/2015  303500.0         6       4.50         3390   \n",
       "\n",
       "    sqft_lot  floors  waterfront  view  condition  grade  sqft_above  \\\n",
       "0       7500     1.0         0.0   0.0          3      8        1620   \n",
       "1       7350     1.0         0.0   0.0          3      8        1780   \n",
       "2       7000     1.0         0.0   0.0          4      7        1540   \n",
       "3       5751     2.0         0.0   0.0          3      8        3220   \n",
       "4       9900     1.0         0.0   0.0          3      7        2800   \n",
       "..       ...     ...         ...   ...        ...    ...         ...   \n",
       "61      9926     2.0         0.0   0.0          3      7        2744   \n",
       "62      6000     2.0         0.0   0.0          3      8        2760   \n",
       "63      4082     2.0         NaN   0.0          3      7        2660   \n",
       "64      5821     2.0         0.0   0.0          3      7        2701   \n",
       "65      7200     2.0         0.0   0.0          3      8        2440   \n",
       "\n",
       "   sqft_basement  yr_built  yr_renovated  zipcode      lat     long  \\\n",
       "0         1020.0      1967           0.0    98023  47.3135 -122.369   \n",
       "1         1160.0      1978           0.0    98023  47.3103 -122.339   \n",
       "2         1490.0      1978           NaN    98032  47.3661 -122.280   \n",
       "3            0.0      2002           0.0    98042  47.3717 -122.104   \n",
       "4            0.0      1964           NaN    98023  47.3190 -122.344   \n",
       "..           ...       ...           ...      ...      ...      ...   \n",
       "61           0.0      2006           NaN    98002  47.2773 -122.216   \n",
       "62           0.0      2006           0.0    98108  47.5289 -122.321   \n",
       "63           0.0      2010           0.0    98042  47.3414 -122.055   \n",
       "64           0.0      2013           NaN    98092  47.2873 -122.177   \n",
       "65         950.0      2007           0.0    98118  47.5205 -122.288   \n",
       "\n",
       "    sqft_living15  sqft_lot15  zip_counter  \n",
       "0            1980        7875          499  \n",
       "1            2120        8236          499  \n",
       "2            1790        7330          125  \n",
       "3            2740        5500          547  \n",
       "4            1700       13200          499  \n",
       "..            ...         ...          ...  \n",
       "61           2470        9926          199  \n",
       "62           1360        6000          186  \n",
       "63           2390        4876          547  \n",
       "64           2566        5843          351  \n",
       "65           2040        7214          507  \n",
       "\n",
       "[66 rows x 22 columns]"
      ]
     },
     "execution_count": 81,
     "metadata": {},
     "output_type": "execute_result"
    }
   ],
   "source": [
    "# Want nice (social) neighbourhood: Analyse neighbourhood data and get nice (social) data\n",
    "\n",
    "#Calculate for every targeted house in low25_bighouse, how many houses (from overall data) have the same zip_code \n",
    "#(this represents the # of houses in the neighbourhood)\n",
    "\n",
    "#Create a new list with zip_counter (how many houses are there per zipcode)\n",
    "zipcounter = data.groupby('zipcode').count()\n",
    "zipcounter.rename(columns={'id':'zip_counter'}, inplace=True)\n",
    "\n",
    "#Save only column zip_counter \n",
    "zipcounter = zipcounter['zip_counter']\n",
    "zipcounter\n",
    "\n",
    "#Merge dataframes low25_bighouse and zipcounter on column \"zipcode\"\n",
    "low25_bighouse_with_zipcounter = pd.merge(low25_bighouse, zipcounter, on=\"zipcode\", how='left')\n",
    "\n",
    "low25_bighouse_with_zipcounter"
   ]
  },
  {
   "cell_type": "code",
   "execution_count": 187,
   "id": "c18ea221-0e75-4efa-b17f-e34616e6ac0d",
   "metadata": {},
   "outputs": [
    {
     "data": {
      "text/html": [
       "<div>\n",
       "<style scoped>\n",
       "    .dataframe tbody tr th:only-of-type {\n",
       "        vertical-align: middle;\n",
       "    }\n",
       "\n",
       "    .dataframe tbody tr th {\n",
       "        vertical-align: top;\n",
       "    }\n",
       "\n",
       "    .dataframe thead th {\n",
       "        text-align: right;\n",
       "    }\n",
       "</style>\n",
       "<table border=\"1\" class=\"dataframe\">\n",
       "  <thead>\n",
       "    <tr style=\"text-align: right;\">\n",
       "      <th></th>\n",
       "      <th>id</th>\n",
       "      <th>date</th>\n",
       "      <th>price</th>\n",
       "      <th>bedrooms</th>\n",
       "      <th>bathrooms</th>\n",
       "      <th>sqft_living</th>\n",
       "      <th>sqft_lot</th>\n",
       "      <th>floors</th>\n",
       "      <th>waterfront</th>\n",
       "      <th>view</th>\n",
       "      <th>condition</th>\n",
       "      <th>grade</th>\n",
       "      <th>sqft_above</th>\n",
       "      <th>sqft_basement</th>\n",
       "      <th>yr_built</th>\n",
       "      <th>yr_renovated</th>\n",
       "      <th>zipcode</th>\n",
       "      <th>lat</th>\n",
       "      <th>long</th>\n",
       "      <th>sqft_living15</th>\n",
       "      <th>sqft_lot15</th>\n",
       "      <th>zip_counter</th>\n",
       "      <th>month_sold</th>\n",
       "      <th>year_sold</th>\n",
       "      <th>day_sold</th>\n",
       "    </tr>\n",
       "  </thead>\n",
       "  <tbody>\n",
       "    <tr>\n",
       "      <th>0</th>\n",
       "      <td>8731900200</td>\n",
       "      <td>2014-08-07</td>\n",
       "      <td>320000.0</td>\n",
       "      <td>4</td>\n",
       "      <td>2.75</td>\n",
       "      <td>2640</td>\n",
       "      <td>7500</td>\n",
       "      <td>1.0</td>\n",
       "      <td>0.0</td>\n",
       "      <td>0.0</td>\n",
       "      <td>3</td>\n",
       "      <td>8</td>\n",
       "      <td>1620</td>\n",
       "      <td>1020.0</td>\n",
       "      <td>1967</td>\n",
       "      <td>0.0</td>\n",
       "      <td>98023</td>\n",
       "      <td>47.3135</td>\n",
       "      <td>-122.369</td>\n",
       "      <td>1980</td>\n",
       "      <td>7875</td>\n",
       "      <td>499</td>\n",
       "      <td>8</td>\n",
       "      <td>2014</td>\n",
       "      <td>7</td>\n",
       "    </tr>\n",
       "    <tr>\n",
       "      <th>1</th>\n",
       "      <td>9264902050</td>\n",
       "      <td>2014-11-21</td>\n",
       "      <td>315000.0</td>\n",
       "      <td>6</td>\n",
       "      <td>2.75</td>\n",
       "      <td>2940</td>\n",
       "      <td>7350</td>\n",
       "      <td>1.0</td>\n",
       "      <td>0.0</td>\n",
       "      <td>0.0</td>\n",
       "      <td>3</td>\n",
       "      <td>8</td>\n",
       "      <td>1780</td>\n",
       "      <td>1160.0</td>\n",
       "      <td>1978</td>\n",
       "      <td>0.0</td>\n",
       "      <td>98023</td>\n",
       "      <td>47.3103</td>\n",
       "      <td>-122.339</td>\n",
       "      <td>2120</td>\n",
       "      <td>8236</td>\n",
       "      <td>499</td>\n",
       "      <td>11</td>\n",
       "      <td>2014</td>\n",
       "      <td>21</td>\n",
       "    </tr>\n",
       "    <tr>\n",
       "      <th>3</th>\n",
       "      <td>6699000810</td>\n",
       "      <td>2014-08-13</td>\n",
       "      <td>315000.0</td>\n",
       "      <td>5</td>\n",
       "      <td>2.50</td>\n",
       "      <td>3220</td>\n",
       "      <td>5751</td>\n",
       "      <td>2.0</td>\n",
       "      <td>0.0</td>\n",
       "      <td>0.0</td>\n",
       "      <td>3</td>\n",
       "      <td>8</td>\n",
       "      <td>3220</td>\n",
       "      <td>0.0</td>\n",
       "      <td>2002</td>\n",
       "      <td>0.0</td>\n",
       "      <td>98042</td>\n",
       "      <td>47.3717</td>\n",
       "      <td>-122.104</td>\n",
       "      <td>2740</td>\n",
       "      <td>5500</td>\n",
       "      <td>547</td>\n",
       "      <td>8</td>\n",
       "      <td>2014</td>\n",
       "      <td>13</td>\n",
       "    </tr>\n",
       "    <tr>\n",
       "      <th>4</th>\n",
       "      <td>7316400070</td>\n",
       "      <td>2014-09-25</td>\n",
       "      <td>255000.0</td>\n",
       "      <td>5</td>\n",
       "      <td>3.75</td>\n",
       "      <td>2800</td>\n",
       "      <td>9900</td>\n",
       "      <td>1.0</td>\n",
       "      <td>0.0</td>\n",
       "      <td>0.0</td>\n",
       "      <td>3</td>\n",
       "      <td>7</td>\n",
       "      <td>2800</td>\n",
       "      <td>0.0</td>\n",
       "      <td>1964</td>\n",
       "      <td>NaN</td>\n",
       "      <td>98023</td>\n",
       "      <td>47.3190</td>\n",
       "      <td>-122.344</td>\n",
       "      <td>1700</td>\n",
       "      <td>13200</td>\n",
       "      <td>499</td>\n",
       "      <td>9</td>\n",
       "      <td>2014</td>\n",
       "      <td>25</td>\n",
       "    </tr>\n",
       "    <tr>\n",
       "      <th>5</th>\n",
       "      <td>8732040090</td>\n",
       "      <td>2015-05-06</td>\n",
       "      <td>307450.0</td>\n",
       "      <td>4</td>\n",
       "      <td>2.75</td>\n",
       "      <td>2690</td>\n",
       "      <td>8874</td>\n",
       "      <td>1.0</td>\n",
       "      <td>0.0</td>\n",
       "      <td>0.0</td>\n",
       "      <td>3</td>\n",
       "      <td>8</td>\n",
       "      <td>1370</td>\n",
       "      <td>1320.0</td>\n",
       "      <td>1980</td>\n",
       "      <td>0.0</td>\n",
       "      <td>98023</td>\n",
       "      <td>47.3078</td>\n",
       "      <td>-122.383</td>\n",
       "      <td>1990</td>\n",
       "      <td>7875</td>\n",
       "      <td>499</td>\n",
       "      <td>5</td>\n",
       "      <td>2015</td>\n",
       "      <td>6</td>\n",
       "    </tr>\n",
       "  </tbody>\n",
       "</table>\n",
       "</div>"
      ],
      "text/plain": [
       "           id       date     price  bedrooms  bathrooms  sqft_living  \\\n",
       "0  8731900200 2014-08-07  320000.0         4       2.75         2640   \n",
       "1  9264902050 2014-11-21  315000.0         6       2.75         2940   \n",
       "3  6699000810 2014-08-13  315000.0         5       2.50         3220   \n",
       "4  7316400070 2014-09-25  255000.0         5       3.75         2800   \n",
       "5  8732040090 2015-05-06  307450.0         4       2.75         2690   \n",
       "\n",
       "   sqft_lot  floors  waterfront  view  condition  grade  sqft_above  \\\n",
       "0      7500     1.0         0.0   0.0          3      8        1620   \n",
       "1      7350     1.0         0.0   0.0          3      8        1780   \n",
       "3      5751     2.0         0.0   0.0          3      8        3220   \n",
       "4      9900     1.0         0.0   0.0          3      7        2800   \n",
       "5      8874     1.0         0.0   0.0          3      8        1370   \n",
       "\n",
       "  sqft_basement  yr_built  yr_renovated  zipcode      lat     long  \\\n",
       "0        1020.0      1967           0.0    98023  47.3135 -122.369   \n",
       "1        1160.0      1978           0.0    98023  47.3103 -122.339   \n",
       "3           0.0      2002           0.0    98042  47.3717 -122.104   \n",
       "4           0.0      1964           NaN    98023  47.3190 -122.344   \n",
       "5        1320.0      1980           0.0    98023  47.3078 -122.383   \n",
       "\n",
       "   sqft_living15  sqft_lot15  zip_counter  month_sold  year_sold  day_sold  \n",
       "0           1980        7875          499           8       2014         7  \n",
       "1           2120        8236          499          11       2014        21  \n",
       "3           2740        5500          547           8       2014        13  \n",
       "4           1700       13200          499           9       2014        25  \n",
       "5           1990        7875          499           5       2015         6  "
      ]
     },
     "execution_count": 187,
     "metadata": {},
     "output_type": "execute_result"
    }
   ],
   "source": [
    "#Analyse zip_counter for the 66 houses. The more houses in the neighbourhood, the better\n",
    "low25_bighouse_with_zipcounter.describe()['zip_counter']\n",
    "\n",
    "#Take only houses with zipcounter above 50% percentile\n",
    "low25_bighouse_with_zipcounter75 = low25_bighouse_with_zipcounter.query('zip_counter >= zip_counter.describe()[\"75%\"]')\n",
    "low25_bighouse_with_zipcounter75.head()"
   ]
  },
  {
   "cell_type": "code",
   "execution_count": null,
   "id": "edb5320a-7553-461f-ad9b-5f1719ea80a9",
   "metadata": {},
   "outputs": [],
   "source": [
    "#Get the median for grade and condition in the neighbourhood"
   ]
  },
  {
   "cell_type": "code",
   "execution_count": 104,
   "id": "3f659924-f2d6-4388-9b66-cfa926216228",
   "metadata": {},
   "outputs": [
    {
     "data": {
      "application/vnd.plotly.v1+json": {
       "config": {
        "plotlyServerURL": "https://plot.ly"
       },
       "data": [
        {
         "hovertemplate": "month_sold=%{x}<br>price=%{y}<extra></extra>",
         "legendgroup": "",
         "marker": {
          "color": "#636efa",
          "symbol": "circle"
         },
         "mode": "markers",
         "name": "",
         "orientation": "v",
         "showlegend": false,
         "type": "scatter",
         "x": [
          8,
          11,
          4,
          8,
          9,
          5,
          11,
          8,
          7,
          11,
          3,
          12,
          7,
          8,
          4,
          4,
          3,
          6,
          10,
          11,
          9,
          6,
          12,
          5,
          8,
          7,
          7,
          7,
          6,
          5,
          8,
          6,
          5,
          10,
          2,
          11,
          6,
          6,
          1,
          6,
          10,
          10,
          10,
          9,
          11,
          12,
          6,
          9,
          3,
          12,
          6,
          12,
          4,
          5,
          1,
          12,
          5,
          10,
          2,
          11,
          6,
          9,
          5,
          12,
          10,
          1
         ],
         "xaxis": "x",
         "y": [
          320000,
          315000,
          321000,
          315000,
          255000,
          307450,
          318700,
          270000,
          320000,
          295500,
          300000,
          260000,
          318000,
          311000,
          300000,
          280500,
          313100,
          320000,
          285000,
          258000,
          315000,
          300000,
          250000,
          275000,
          252500,
          312000,
          301000,
          290000,
          310000,
          292050,
          316000,
          300000,
          254500,
          302000,
          320000,
          292000,
          320000,
          315000,
          300000,
          300000,
          257000,
          300000,
          321500,
          312200,
          290000,
          288000,
          320000,
          265000,
          315000,
          277500,
          287500,
          302300,
          320000,
          300000,
          315000,
          283450,
          293000,
          310000,
          319500,
          272000,
          279000,
          300000,
          300000,
          287000,
          270000,
          303500
         ],
         "yaxis": "y"
        }
       ],
       "layout": {
        "autosize": true,
        "legend": {
         "tracegroupgap": 0
        },
        "margin": {
         "t": 60
        },
        "template": {
         "data": {
          "bar": [
           {
            "error_x": {
             "color": "#2a3f5f"
            },
            "error_y": {
             "color": "#2a3f5f"
            },
            "marker": {
             "line": {
              "color": "#E5ECF6",
              "width": 0.5
             },
             "pattern": {
              "fillmode": "overlay",
              "size": 10,
              "solidity": 0.2
             }
            },
            "type": "bar"
           }
          ],
          "barpolar": [
           {
            "marker": {
             "line": {
              "color": "#E5ECF6",
              "width": 0.5
             },
             "pattern": {
              "fillmode": "overlay",
              "size": 10,
              "solidity": 0.2
             }
            },
            "type": "barpolar"
           }
          ],
          "carpet": [
           {
            "aaxis": {
             "endlinecolor": "#2a3f5f",
             "gridcolor": "white",
             "linecolor": "white",
             "minorgridcolor": "white",
             "startlinecolor": "#2a3f5f"
            },
            "baxis": {
             "endlinecolor": "#2a3f5f",
             "gridcolor": "white",
             "linecolor": "white",
             "minorgridcolor": "white",
             "startlinecolor": "#2a3f5f"
            },
            "type": "carpet"
           }
          ],
          "choropleth": [
           {
            "colorbar": {
             "outlinewidth": 0,
             "ticks": ""
            },
            "type": "choropleth"
           }
          ],
          "contour": [
           {
            "colorbar": {
             "outlinewidth": 0,
             "ticks": ""
            },
            "colorscale": [
             [
              0,
              "#0d0887"
             ],
             [
              0.1111111111111111,
              "#46039f"
             ],
             [
              0.2222222222222222,
              "#7201a8"
             ],
             [
              0.3333333333333333,
              "#9c179e"
             ],
             [
              0.4444444444444444,
              "#bd3786"
             ],
             [
              0.5555555555555556,
              "#d8576b"
             ],
             [
              0.6666666666666666,
              "#ed7953"
             ],
             [
              0.7777777777777778,
              "#fb9f3a"
             ],
             [
              0.8888888888888888,
              "#fdca26"
             ],
             [
              1,
              "#f0f921"
             ]
            ],
            "type": "contour"
           }
          ],
          "contourcarpet": [
           {
            "colorbar": {
             "outlinewidth": 0,
             "ticks": ""
            },
            "type": "contourcarpet"
           }
          ],
          "heatmap": [
           {
            "colorbar": {
             "outlinewidth": 0,
             "ticks": ""
            },
            "colorscale": [
             [
              0,
              "#0d0887"
             ],
             [
              0.1111111111111111,
              "#46039f"
             ],
             [
              0.2222222222222222,
              "#7201a8"
             ],
             [
              0.3333333333333333,
              "#9c179e"
             ],
             [
              0.4444444444444444,
              "#bd3786"
             ],
             [
              0.5555555555555556,
              "#d8576b"
             ],
             [
              0.6666666666666666,
              "#ed7953"
             ],
             [
              0.7777777777777778,
              "#fb9f3a"
             ],
             [
              0.8888888888888888,
              "#fdca26"
             ],
             [
              1,
              "#f0f921"
             ]
            ],
            "type": "heatmap"
           }
          ],
          "heatmapgl": [
           {
            "colorbar": {
             "outlinewidth": 0,
             "ticks": ""
            },
            "colorscale": [
             [
              0,
              "#0d0887"
             ],
             [
              0.1111111111111111,
              "#46039f"
             ],
             [
              0.2222222222222222,
              "#7201a8"
             ],
             [
              0.3333333333333333,
              "#9c179e"
             ],
             [
              0.4444444444444444,
              "#bd3786"
             ],
             [
              0.5555555555555556,
              "#d8576b"
             ],
             [
              0.6666666666666666,
              "#ed7953"
             ],
             [
              0.7777777777777778,
              "#fb9f3a"
             ],
             [
              0.8888888888888888,
              "#fdca26"
             ],
             [
              1,
              "#f0f921"
             ]
            ],
            "type": "heatmapgl"
           }
          ],
          "histogram": [
           {
            "marker": {
             "pattern": {
              "fillmode": "overlay",
              "size": 10,
              "solidity": 0.2
             }
            },
            "type": "histogram"
           }
          ],
          "histogram2d": [
           {
            "colorbar": {
             "outlinewidth": 0,
             "ticks": ""
            },
            "colorscale": [
             [
              0,
              "#0d0887"
             ],
             [
              0.1111111111111111,
              "#46039f"
             ],
             [
              0.2222222222222222,
              "#7201a8"
             ],
             [
              0.3333333333333333,
              "#9c179e"
             ],
             [
              0.4444444444444444,
              "#bd3786"
             ],
             [
              0.5555555555555556,
              "#d8576b"
             ],
             [
              0.6666666666666666,
              "#ed7953"
             ],
             [
              0.7777777777777778,
              "#fb9f3a"
             ],
             [
              0.8888888888888888,
              "#fdca26"
             ],
             [
              1,
              "#f0f921"
             ]
            ],
            "type": "histogram2d"
           }
          ],
          "histogram2dcontour": [
           {
            "colorbar": {
             "outlinewidth": 0,
             "ticks": ""
            },
            "colorscale": [
             [
              0,
              "#0d0887"
             ],
             [
              0.1111111111111111,
              "#46039f"
             ],
             [
              0.2222222222222222,
              "#7201a8"
             ],
             [
              0.3333333333333333,
              "#9c179e"
             ],
             [
              0.4444444444444444,
              "#bd3786"
             ],
             [
              0.5555555555555556,
              "#d8576b"
             ],
             [
              0.6666666666666666,
              "#ed7953"
             ],
             [
              0.7777777777777778,
              "#fb9f3a"
             ],
             [
              0.8888888888888888,
              "#fdca26"
             ],
             [
              1,
              "#f0f921"
             ]
            ],
            "type": "histogram2dcontour"
           }
          ],
          "mesh3d": [
           {
            "colorbar": {
             "outlinewidth": 0,
             "ticks": ""
            },
            "type": "mesh3d"
           }
          ],
          "parcoords": [
           {
            "line": {
             "colorbar": {
              "outlinewidth": 0,
              "ticks": ""
             }
            },
            "type": "parcoords"
           }
          ],
          "pie": [
           {
            "automargin": true,
            "type": "pie"
           }
          ],
          "scatter": [
           {
            "marker": {
             "colorbar": {
              "outlinewidth": 0,
              "ticks": ""
             }
            },
            "type": "scatter"
           }
          ],
          "scatter3d": [
           {
            "line": {
             "colorbar": {
              "outlinewidth": 0,
              "ticks": ""
             }
            },
            "marker": {
             "colorbar": {
              "outlinewidth": 0,
              "ticks": ""
             }
            },
            "type": "scatter3d"
           }
          ],
          "scattercarpet": [
           {
            "marker": {
             "colorbar": {
              "outlinewidth": 0,
              "ticks": ""
             }
            },
            "type": "scattercarpet"
           }
          ],
          "scattergeo": [
           {
            "marker": {
             "colorbar": {
              "outlinewidth": 0,
              "ticks": ""
             }
            },
            "type": "scattergeo"
           }
          ],
          "scattergl": [
           {
            "marker": {
             "colorbar": {
              "outlinewidth": 0,
              "ticks": ""
             }
            },
            "type": "scattergl"
           }
          ],
          "scattermapbox": [
           {
            "marker": {
             "colorbar": {
              "outlinewidth": 0,
              "ticks": ""
             }
            },
            "type": "scattermapbox"
           }
          ],
          "scatterpolar": [
           {
            "marker": {
             "colorbar": {
              "outlinewidth": 0,
              "ticks": ""
             }
            },
            "type": "scatterpolar"
           }
          ],
          "scatterpolargl": [
           {
            "marker": {
             "colorbar": {
              "outlinewidth": 0,
              "ticks": ""
             }
            },
            "type": "scatterpolargl"
           }
          ],
          "scatterternary": [
           {
            "marker": {
             "colorbar": {
              "outlinewidth": 0,
              "ticks": ""
             }
            },
            "type": "scatterternary"
           }
          ],
          "surface": [
           {
            "colorbar": {
             "outlinewidth": 0,
             "ticks": ""
            },
            "colorscale": [
             [
              0,
              "#0d0887"
             ],
             [
              0.1111111111111111,
              "#46039f"
             ],
             [
              0.2222222222222222,
              "#7201a8"
             ],
             [
              0.3333333333333333,
              "#9c179e"
             ],
             [
              0.4444444444444444,
              "#bd3786"
             ],
             [
              0.5555555555555556,
              "#d8576b"
             ],
             [
              0.6666666666666666,
              "#ed7953"
             ],
             [
              0.7777777777777778,
              "#fb9f3a"
             ],
             [
              0.8888888888888888,
              "#fdca26"
             ],
             [
              1,
              "#f0f921"
             ]
            ],
            "type": "surface"
           }
          ],
          "table": [
           {
            "cells": {
             "fill": {
              "color": "#EBF0F8"
             },
             "line": {
              "color": "white"
             }
            },
            "header": {
             "fill": {
              "color": "#C8D4E3"
             },
             "line": {
              "color": "white"
             }
            },
            "type": "table"
           }
          ]
         },
         "layout": {
          "annotationdefaults": {
           "arrowcolor": "#2a3f5f",
           "arrowhead": 0,
           "arrowwidth": 1
          },
          "autotypenumbers": "strict",
          "coloraxis": {
           "colorbar": {
            "outlinewidth": 0,
            "ticks": ""
           }
          },
          "colorscale": {
           "diverging": [
            [
             0,
             "#8e0152"
            ],
            [
             0.1,
             "#c51b7d"
            ],
            [
             0.2,
             "#de77ae"
            ],
            [
             0.3,
             "#f1b6da"
            ],
            [
             0.4,
             "#fde0ef"
            ],
            [
             0.5,
             "#f7f7f7"
            ],
            [
             0.6,
             "#e6f5d0"
            ],
            [
             0.7,
             "#b8e186"
            ],
            [
             0.8,
             "#7fbc41"
            ],
            [
             0.9,
             "#4d9221"
            ],
            [
             1,
             "#276419"
            ]
           ],
           "sequential": [
            [
             0,
             "#0d0887"
            ],
            [
             0.1111111111111111,
             "#46039f"
            ],
            [
             0.2222222222222222,
             "#7201a8"
            ],
            [
             0.3333333333333333,
             "#9c179e"
            ],
            [
             0.4444444444444444,
             "#bd3786"
            ],
            [
             0.5555555555555556,
             "#d8576b"
            ],
            [
             0.6666666666666666,
             "#ed7953"
            ],
            [
             0.7777777777777778,
             "#fb9f3a"
            ],
            [
             0.8888888888888888,
             "#fdca26"
            ],
            [
             1,
             "#f0f921"
            ]
           ],
           "sequentialminus": [
            [
             0,
             "#0d0887"
            ],
            [
             0.1111111111111111,
             "#46039f"
            ],
            [
             0.2222222222222222,
             "#7201a8"
            ],
            [
             0.3333333333333333,
             "#9c179e"
            ],
            [
             0.4444444444444444,
             "#bd3786"
            ],
            [
             0.5555555555555556,
             "#d8576b"
            ],
            [
             0.6666666666666666,
             "#ed7953"
            ],
            [
             0.7777777777777778,
             "#fb9f3a"
            ],
            [
             0.8888888888888888,
             "#fdca26"
            ],
            [
             1,
             "#f0f921"
            ]
           ]
          },
          "colorway": [
           "#636efa",
           "#EF553B",
           "#00cc96",
           "#ab63fa",
           "#FFA15A",
           "#19d3f3",
           "#FF6692",
           "#B6E880",
           "#FF97FF",
           "#FECB52"
          ],
          "font": {
           "color": "#2a3f5f"
          },
          "geo": {
           "bgcolor": "white",
           "lakecolor": "white",
           "landcolor": "#E5ECF6",
           "showlakes": true,
           "showland": true,
           "subunitcolor": "white"
          },
          "hoverlabel": {
           "align": "left"
          },
          "hovermode": "closest",
          "mapbox": {
           "style": "light"
          },
          "paper_bgcolor": "white",
          "plot_bgcolor": "#E5ECF6",
          "polar": {
           "angularaxis": {
            "gridcolor": "white",
            "linecolor": "white",
            "ticks": ""
           },
           "bgcolor": "#E5ECF6",
           "radialaxis": {
            "gridcolor": "white",
            "linecolor": "white",
            "ticks": ""
           }
          },
          "scene": {
           "xaxis": {
            "backgroundcolor": "#E5ECF6",
            "gridcolor": "white",
            "gridwidth": 2,
            "linecolor": "white",
            "showbackground": true,
            "ticks": "",
            "zerolinecolor": "white"
           },
           "yaxis": {
            "backgroundcolor": "#E5ECF6",
            "gridcolor": "white",
            "gridwidth": 2,
            "linecolor": "white",
            "showbackground": true,
            "ticks": "",
            "zerolinecolor": "white"
           },
           "zaxis": {
            "backgroundcolor": "#E5ECF6",
            "gridcolor": "white",
            "gridwidth": 2,
            "linecolor": "white",
            "showbackground": true,
            "ticks": "",
            "zerolinecolor": "white"
           }
          },
          "shapedefaults": {
           "line": {
            "color": "#2a3f5f"
           }
          },
          "ternary": {
           "aaxis": {
            "gridcolor": "white",
            "linecolor": "white",
            "ticks": ""
           },
           "baxis": {
            "gridcolor": "white",
            "linecolor": "white",
            "ticks": ""
           },
           "bgcolor": "#E5ECF6",
           "caxis": {
            "gridcolor": "white",
            "linecolor": "white",
            "ticks": ""
           }
          },
          "title": {
           "x": 0.05
          },
          "xaxis": {
           "automargin": true,
           "gridcolor": "white",
           "linecolor": "white",
           "ticks": "",
           "title": {
            "standoff": 15
           },
           "zerolinecolor": "white",
           "zerolinewidth": 2
          },
          "yaxis": {
           "automargin": true,
           "gridcolor": "white",
           "linecolor": "white",
           "ticks": "",
           "title": {
            "standoff": 15
           },
           "zerolinecolor": "white",
           "zerolinewidth": 2
          }
         }
        },
        "xaxis": {
         "anchor": "y",
         "autorange": true,
         "domain": [
          0,
          1
         ],
         "range": [
          0.34384827044025146,
          12.656151729559749
         ],
         "title": {
          "text": "month_sold"
         },
         "type": "linear"
        },
        "yaxis": {
         "anchor": "x",
         "autorange": true,
         "domain": [
          0,
          1
         ],
         "range": [
          244463.91076115487,
          327036.08923884516
         ],
         "title": {
          "text": "price"
         },
         "type": "linear"
        }
       }
      },
      "image/png": "[encoded data removed]",
      "text/html": [
       "<div>                            <div id=\"c25863c1-fe5f-4fe1-88bf-568226d1f348\" class=\"plotly-graph-div\" style=\"height:525px; width:100%;\"></div>            <script type=\"text/javascript\">                require([\"plotly\"], function(Plotly) {                    window.PLOTLYENV=window.PLOTLYENV || {};                                    if (document.getElementById(\"c25863c1-fe5f-4fe1-88bf-568226d1f348\")) {                    Plotly.newPlot(                        \"c25863c1-fe5f-4fe1-88bf-568226d1f348\",                        [{\"hovertemplate\":\"month_sold=%{x}<br>price=%{y}<extra></extra>\",\"legendgroup\":\"\",\"marker\":{\"color\":\"#636efa\",\"symbol\":\"circle\"},\"mode\":\"markers\",\"name\":\"\",\"orientation\":\"v\",\"showlegend\":false,\"x\":[8,11,4,8,9,5,11,8,7,11,3,12,7,8,4,4,3,6,10,11,9,6,12,5,8,7,7,7,6,5,8,6,5,10,2,11,6,6,1,6,10,10,10,9,11,12,6,9,3,12,6,12,4,5,1,12,5,10,2,11,6,9,5,12,10,1],\"xaxis\":\"x\",\"y\":[320000.0,315000.0,321000.0,315000.0,255000.0,307450.0,318700.0,270000.0,320000.0,295500.0,300000.0,260000.0,318000.0,311000.0,300000.0,280500.0,313100.0,320000.0,285000.0,258000.0,315000.0,300000.0,250000.0,275000.0,252500.0,312000.0,301000.0,290000.0,310000.0,292050.0,316000.0,300000.0,254500.0,302000.0,320000.0,292000.0,320000.0,315000.0,300000.0,300000.0,257000.0,300000.0,321500.0,312200.0,290000.0,288000.0,320000.0,265000.0,315000.0,277500.0,287500.0,302300.0,320000.0,300000.0,315000.0,283450.0,293000.0,310000.0,319500.0,272000.0,279000.0,300000.0,300000.0,287000.0,270000.0,303500.0],\"yaxis\":\"y\",\"type\":\"scatter\"}],                        {\"template\":{\"data\":{\"bar\":[{\"error_x\":{\"color\":\"#2a3f5f\"},\"error_y\":{\"color\":\"#2a3f5f\"},\"marker\":{\"line\":{\"color\":\"#E5ECF6\",\"width\":0.5},\"pattern\":{\"fillmode\":\"overlay\",\"size\":10,\"solidity\":0.2}},\"type\":\"bar\"}],\"barpolar\":[{\"marker\":{\"line\":{\"color\":\"#E5ECF6\",\"width\":0.5},\"pattern\":{\"fillmode\":\"overlay\",\"size\":10,\"solidity\":0.2}},\"type\":\"barpolar\"}],\"carpet\":[{\"aaxis\":{\"endlinecolor\":\"#2a3f5f\",\"gridcolor\":\"white\",\"linecolor\":\"white\",\"minorgridcolor\":\"white\",\"startlinecolor\":\"#2a3f5f\"},\"baxis\":{\"endlinecolor\":\"#2a3f5f\",\"gridcolor\":\"white\",\"linecolor\":\"white\",\"minorgridcolor\":\"white\",\"startlinecolor\":\"#2a3f5f\"},\"type\":\"carpet\"}],\"choropleth\":[{\"colorbar\":{\"outlinewidth\":0,\"ticks\":\"\"},\"type\":\"choropleth\"}],\"contour\":[{\"colorbar\":{\"outlinewidth\":0,\"ticks\":\"\"},\"colorscale\":[[0.0,\"#0d0887\"],[0.1111111111111111,\"#46039f\"],[0.2222222222222222,\"#7201a8\"],[0.3333333333333333,\"#9c179e\"],[0.4444444444444444,\"#bd3786\"],[0.5555555555555556,\"#d8576b\"],[0.6666666666666666,\"#ed7953\"],[0.7777777777777778,\"#fb9f3a\"],[0.8888888888888888,\"#fdca26\"],[1.0,\"#f0f921\"]],\"type\":\"contour\"}],\"contourcarpet\":[{\"colorbar\":{\"outlinewidth\":0,\"ticks\":\"\"},\"type\":\"contourcarpet\"}],\"heatmap\":[{\"colorbar\":{\"outlinewidth\":0,\"ticks\":\"\"},\"colorscale\":[[0.0,\"#0d0887\"],[0.1111111111111111,\"#46039f\"],[0.2222222222222222,\"#7201a8\"],[0.3333333333333333,\"#9c179e\"],[0.4444444444444444,\"#bd3786\"],[0.5555555555555556,\"#d8576b\"],[0.6666666666666666,\"#ed7953\"],[0.7777777777777778,\"#fb9f3a\"],[0.8888888888888888,\"#fdca26\"],[1.0,\"#f0f921\"]],\"type\":\"heatmap\"}],\"heatmapgl\":[{\"colorbar\":{\"outlinewidth\":0,\"ticks\":\"\"},\"colorscale\":[[0.0,\"#0d0887\"],[0.1111111111111111,\"#46039f\"],[0.2222222222222222,\"#7201a8\"],[0.3333333333333333,\"#9c179e\"],[0.4444444444444444,\"#bd3786\"],[0.5555555555555556,\"#d8576b\"],[0.6666666666666666,\"#ed7953\"],[0.7777777777777778,\"#fb9f3a\"],[0.8888888888888888,\"#fdca26\"],[1.0,\"#f0f921\"]],\"type\":\"heatmapgl\"}],\"histogram\":[{\"marker\":{\"pattern\":{\"fillmode\":\"overlay\",\"size\":10,\"solidity\":0.2}},\"type\":\"histogram\"}],\"histogram2d\":[{\"colorbar\":{\"outlinewidth\":0,\"ticks\":\"\"},\"colorscale\":[[0.0,\"#0d0887\"],[0.1111111111111111,\"#46039f\"],[0.2222222222222222,\"#7201a8\"],[0.3333333333333333,\"#9c179e\"],[0.4444444444444444,\"#bd3786\"],[0.5555555555555556,\"#d8576b\"],[0.6666666666666666,\"#ed7953\"],[0.7777777777777778,\"#fb9f3a\"],[0.8888888888888888,\"#fdca26\"],[1.0,\"#f0f921\"]],\"type\":\"histogram2d\"}],\"histogram2dcontour\":[{\"colorbar\":{\"outlinewidth\":0,\"ticks\":\"\"},\"colorscale\":[[0.0,\"#0d0887\"],[0.1111111111111111,\"#46039f\"],[0.2222222222222222,\"#7201a8\"],[0.3333333333333333,\"#9c179e\"],[0.4444444444444444,\"#bd3786\"],[0.5555555555555556,\"#d8576b\"],[0.6666666666666666,\"#ed7953\"],[0.7777777777777778,\"#fb9f3a\"],[0.8888888888888888,\"#fdca26\"],[1.0,\"#f0f921\"]],\"type\":\"histogram2dcontour\"}],\"mesh3d\":[{\"colorbar\":{\"outlinewidth\":0,\"ticks\":\"\"},\"type\":\"mesh3d\"}],\"parcoords\":[{\"line\":{\"colorbar\":{\"outlinewidth\":0,\"ticks\":\"\"}},\"type\":\"parcoords\"}],\"pie\":[{\"automargin\":true,\"type\":\"pie\"}],\"scatter\":[{\"marker\":{\"colorbar\":{\"outlinewidth\":0,\"ticks\":\"\"}},\"type\":\"scatter\"}],\"scatter3d\":[{\"line\":{\"colorbar\":{\"outlinewidth\":0,\"ticks\":\"\"}},\"marker\":{\"colorbar\":{\"outlinewidth\":0,\"ticks\":\"\"}},\"type\":\"scatter3d\"}],\"scattercarpet\":[{\"marker\":{\"colorbar\":{\"outlinewidth\":0,\"ticks\":\"\"}},\"type\":\"scattercarpet\"}],\"scattergeo\":[{\"marker\":{\"colorbar\":{\"outlinewidth\":0,\"ticks\":\"\"}},\"type\":\"scattergeo\"}],\"scattergl\":[{\"marker\":{\"colorbar\":{\"outlinewidth\":0,\"ticks\":\"\"}},\"type\":\"scattergl\"}],\"scattermapbox\":[{\"marker\":{\"colorbar\":{\"outlinewidth\":0,\"ticks\":\"\"}},\"type\":\"scattermapbox\"}],\"scatterpolar\":[{\"marker\":{\"colorbar\":{\"outlinewidth\":0,\"ticks\":\"\"}},\"type\":\"scatterpolar\"}],\"scatterpolargl\":[{\"marker\":{\"colorbar\":{\"outlinewidth\":0,\"ticks\":\"\"}},\"type\":\"scatterpolargl\"}],\"scatterternary\":[{\"marker\":{\"colorbar\":{\"outlinewidth\":0,\"ticks\":\"\"}},\"type\":\"scatterternary\"}],\"surface\":[{\"colorbar\":{\"outlinewidth\":0,\"ticks\":\"\"},\"colorscale\":[[0.0,\"#0d0887\"],[0.1111111111111111,\"#46039f\"],[0.2222222222222222,\"#7201a8\"],[0.3333333333333333,\"#9c179e\"],[0.4444444444444444,\"#bd3786\"],[0.5555555555555556,\"#d8576b\"],[0.6666666666666666,\"#ed7953\"],[0.7777777777777778,\"#fb9f3a\"],[0.8888888888888888,\"#fdca26\"],[1.0,\"#f0f921\"]],\"type\":\"surface\"}],\"table\":[{\"cells\":{\"fill\":{\"color\":\"#EBF0F8\"},\"line\":{\"color\":\"white\"}},\"header\":{\"fill\":{\"color\":\"#C8D4E3\"},\"line\":{\"color\":\"white\"}},\"type\":\"table\"}]},\"layout\":{\"annotationdefaults\":{\"arrowcolor\":\"#2a3f5f\",\"arrowhead\":0,\"arrowwidth\":1},\"autotypenumbers\":\"strict\",\"coloraxis\":{\"colorbar\":{\"outlinewidth\":0,\"ticks\":\"\"}},\"colorscale\":{\"diverging\":[[0,\"#8e0152\"],[0.1,\"#c51b7d\"],[0.2,\"#de77ae\"],[0.3,\"#f1b6da\"],[0.4,\"#fde0ef\"],[0.5,\"#f7f7f7\"],[0.6,\"#e6f5d0\"],[0.7,\"#b8e186\"],[0.8,\"#7fbc41\"],[0.9,\"#4d9221\"],[1,\"#276419\"]],\"sequential\":[[0.0,\"#0d0887\"],[0.1111111111111111,\"#46039f\"],[0.2222222222222222,\"#7201a8\"],[0.3333333333333333,\"#9c179e\"],[0.4444444444444444,\"#bd3786\"],[0.5555555555555556,\"#d8576b\"],[0.6666666666666666,\"#ed7953\"],[0.7777777777777778,\"#fb9f3a\"],[0.8888888888888888,\"#fdca26\"],[1.0,\"#f0f921\"]],\"sequentialminus\":[[0.0,\"#0d0887\"],[0.1111111111111111,\"#46039f\"],[0.2222222222222222,\"#7201a8\"],[0.3333333333333333,\"#9c179e\"],[0.4444444444444444,\"#bd3786\"],[0.5555555555555556,\"#d8576b\"],[0.6666666666666666,\"#ed7953\"],[0.7777777777777778,\"#fb9f3a\"],[0.8888888888888888,\"#fdca26\"],[1.0,\"#f0f921\"]]},\"colorway\":[\"#636efa\",\"#EF553B\",\"#00cc96\",\"#ab63fa\",\"#FFA15A\",\"#19d3f3\",\"#FF6692\",\"#B6E880\",\"#FF97FF\",\"#FECB52\"],\"font\":{\"color\":\"#2a3f5f\"},\"geo\":{\"bgcolor\":\"white\",\"lakecolor\":\"white\",\"landcolor\":\"#E5ECF6\",\"showlakes\":true,\"showland\":true,\"subunitcolor\":\"white\"},\"hoverlabel\":{\"align\":\"left\"},\"hovermode\":\"closest\",\"mapbox\":{\"style\":\"light\"},\"paper_bgcolor\":\"white\",\"plot_bgcolor\":\"#E5ECF6\",\"polar\":{\"angularaxis\":{\"gridcolor\":\"white\",\"linecolor\":\"white\",\"ticks\":\"\"},\"bgcolor\":\"#E5ECF6\",\"radialaxis\":{\"gridcolor\":\"white\",\"linecolor\":\"white\",\"ticks\":\"\"}},\"scene\":{\"xaxis\":{\"backgroundcolor\":\"#E5ECF6\",\"gridcolor\":\"white\",\"gridwidth\":2,\"linecolor\":\"white\",\"showbackground\":true,\"ticks\":\"\",\"zerolinecolor\":\"white\"},\"yaxis\":{\"backgroundcolor\":\"#E5ECF6\",\"gridcolor\":\"white\",\"gridwidth\":2,\"linecolor\":\"white\",\"showbackground\":true,\"ticks\":\"\",\"zerolinecolor\":\"white\"},\"zaxis\":{\"backgroundcolor\":\"#E5ECF6\",\"gridcolor\":\"white\",\"gridwidth\":2,\"linecolor\":\"white\",\"showbackground\":true,\"ticks\":\"\",\"zerolinecolor\":\"white\"}},\"shapedefaults\":{\"line\":{\"color\":\"#2a3f5f\"}},\"ternary\":{\"aaxis\":{\"gridcolor\":\"white\",\"linecolor\":\"white\",\"ticks\":\"\"},\"baxis\":{\"gridcolor\":\"white\",\"linecolor\":\"white\",\"ticks\":\"\"},\"bgcolor\":\"#E5ECF6\",\"caxis\":{\"gridcolor\":\"white\",\"linecolor\":\"white\",\"ticks\":\"\"}},\"title\":{\"x\":0.05},\"xaxis\":{\"automargin\":true,\"gridcolor\":\"white\",\"linecolor\":\"white\",\"ticks\":\"\",\"title\":{\"standoff\":15},\"zerolinecolor\":\"white\",\"zerolinewidth\":2},\"yaxis\":{\"automargin\":true,\"gridcolor\":\"white\",\"linecolor\":\"white\",\"ticks\":\"\",\"title\":{\"standoff\":15},\"zerolinecolor\":\"white\",\"zerolinewidth\":2}}},\"xaxis\":{\"anchor\":\"y\",\"domain\":[0.0,1.0],\"title\":{\"text\":\"month_sold\"}},\"yaxis\":{\"anchor\":\"x\",\"domain\":[0.0,1.0],\"title\":{\"text\":\"price\"}},\"legend\":{\"tracegroupgap\":0},\"margin\":{\"t\":60}},                        {\"responsive\": true}                    ).then(function(){\n",
       "                            \n",
       "var gd = document.getElementById('c25863c1-fe5f-4fe1-88bf-568226d1f348');\n",
       "var x = new MutationObserver(function (mutations, observer) {{\n",
       "        var display = window.getComputedStyle(gd).display;\n",
       "        if (!display || display === 'none') {{\n",
       "            console.log([gd, 'removed!']);\n",
       "            Plotly.purge(gd);\n",
       "            observer.disconnect();\n",
       "        }}\n",
       "}});\n",
       "\n",
       "// Listen for the removal of the full notebook cells\n",
       "var notebookContainer = gd.closest('#notebook-container');\n",
       "if (notebookContainer) {{\n",
       "    x.observe(notebookContainer, {childList: true});\n",
       "}}\n",
       "\n",
       "// Listen for the clearing of the current output cell\n",
       "var outputEl = gd.closest('.output');\n",
       "if (outputEl) {{\n",
       "    x.observe(outputEl, {childList: true});\n",
       "}}\n",
       "\n",
       "                        })                };                });            </script>        </div>"
      ]
     },
     "metadata": {},
     "output_type": "display_data"
    }
   ],
   "source": [
    "#Timing?\n",
    "\n",
    "#Save day, month and year in separate columns\n",
    "timing = low25_bighouse_with_zipcounter\n",
    "timing['date']=pd.to_datetime(timing['date'],format='%m/%d/%Y')\n",
    "timing['day_sold'] = timing['date'].dt.day\n",
    "timing['month_sold'] = timing['date'].dt.month\n",
    "timing['year_sold'] = timing['date'].dt.year\n",
    "\n",
    "#Plot the dates vs the price\n",
    "#px.scatter(new_house, x='day_sold', y='price')\n",
    "#px.scatter(new_house, x='month_sold', y='price')\n",
    "#px.scatter(new_house, x='year_sold', y='price')"
   ]
  },
  {
   "cell_type": "code",
   "execution_count": 127,
   "id": "b7b7de7d-3bff-49a3-97f4-bc86666d7027",
   "metadata": {},
   "outputs": [
    {
     "data": {
      "text/html": [
       "<div>\n",
       "<style scoped>\n",
       "    .dataframe tbody tr th:only-of-type {\n",
       "        vertical-align: middle;\n",
       "    }\n",
       "\n",
       "    .dataframe tbody tr th {\n",
       "        vertical-align: top;\n",
       "    }\n",
       "\n",
       "    .dataframe thead th {\n",
       "        text-align: right;\n",
       "    }\n",
       "</style>\n",
       "<table border=\"1\" class=\"dataframe\">\n",
       "  <thead>\n",
       "    <tr style=\"text-align: right;\">\n",
       "      <th></th>\n",
       "      <th>id</th>\n",
       "      <th>price</th>\n",
       "      <th>grade</th>\n",
       "      <th>condition</th>\n",
       "      <th>bedrooms</th>\n",
       "      <th>bathrooms</th>\n",
       "      <th>sqft_living</th>\n",
       "      <th>sqft_lot</th>\n",
       "      <th>floors</th>\n",
       "      <th>zipcode</th>\n",
       "      <th>zip_counter</th>\n",
       "      <th>lat</th>\n",
       "      <th>long</th>\n",
       "    </tr>\n",
       "  </thead>\n",
       "  <tbody>\n",
       "    <tr>\n",
       "      <th>0</th>\n",
       "      <td>8731900200</td>\n",
       "      <td>320000.0</td>\n",
       "      <td>8</td>\n",
       "      <td>3</td>\n",
       "      <td>4</td>\n",
       "      <td>2.75</td>\n",
       "      <td>2640</td>\n",
       "      <td>7500</td>\n",
       "      <td>1.0</td>\n",
       "      <td>98023</td>\n",
       "      <td>499</td>\n",
       "      <td>47.3135</td>\n",
       "      <td>-122.369</td>\n",
       "    </tr>\n",
       "    <tr>\n",
       "      <th>1</th>\n",
       "      <td>9264902050</td>\n",
       "      <td>315000.0</td>\n",
       "      <td>8</td>\n",
       "      <td>3</td>\n",
       "      <td>6</td>\n",
       "      <td>2.75</td>\n",
       "      <td>2940</td>\n",
       "      <td>7350</td>\n",
       "      <td>1.0</td>\n",
       "      <td>98023</td>\n",
       "      <td>499</td>\n",
       "      <td>47.3103</td>\n",
       "      <td>-122.339</td>\n",
       "    </tr>\n",
       "    <tr>\n",
       "      <th>3</th>\n",
       "      <td>6699000810</td>\n",
       "      <td>315000.0</td>\n",
       "      <td>8</td>\n",
       "      <td>3</td>\n",
       "      <td>5</td>\n",
       "      <td>2.50</td>\n",
       "      <td>3220</td>\n",
       "      <td>5751</td>\n",
       "      <td>2.0</td>\n",
       "      <td>98042</td>\n",
       "      <td>547</td>\n",
       "      <td>47.3717</td>\n",
       "      <td>-122.104</td>\n",
       "    </tr>\n",
       "    <tr>\n",
       "      <th>4</th>\n",
       "      <td>7316400070</td>\n",
       "      <td>255000.0</td>\n",
       "      <td>7</td>\n",
       "      <td>3</td>\n",
       "      <td>5</td>\n",
       "      <td>3.75</td>\n",
       "      <td>2800</td>\n",
       "      <td>9900</td>\n",
       "      <td>1.0</td>\n",
       "      <td>98023</td>\n",
       "      <td>499</td>\n",
       "      <td>47.3190</td>\n",
       "      <td>-122.344</td>\n",
       "    </tr>\n",
       "    <tr>\n",
       "      <th>5</th>\n",
       "      <td>8732040090</td>\n",
       "      <td>307450.0</td>\n",
       "      <td>8</td>\n",
       "      <td>3</td>\n",
       "      <td>4</td>\n",
       "      <td>2.75</td>\n",
       "      <td>2690</td>\n",
       "      <td>8874</td>\n",
       "      <td>1.0</td>\n",
       "      <td>98023</td>\n",
       "      <td>499</td>\n",
       "      <td>47.3078</td>\n",
       "      <td>-122.383</td>\n",
       "    </tr>\n",
       "    <tr>\n",
       "      <th>9</th>\n",
       "      <td>9264910900</td>\n",
       "      <td>295500.0</td>\n",
       "      <td>8</td>\n",
       "      <td>3</td>\n",
       "      <td>4</td>\n",
       "      <td>2.50</td>\n",
       "      <td>2830</td>\n",
       "      <td>7350</td>\n",
       "      <td>1.0</td>\n",
       "      <td>98023</td>\n",
       "      <td>499</td>\n",
       "      <td>47.3088</td>\n",
       "      <td>-122.341</td>\n",
       "    </tr>\n",
       "    <tr>\n",
       "      <th>10</th>\n",
       "      <td>3021049140</td>\n",
       "      <td>300000.0</td>\n",
       "      <td>8</td>\n",
       "      <td>3</td>\n",
       "      <td>4</td>\n",
       "      <td>2.50</td>\n",
       "      <td>2890</td>\n",
       "      <td>17349</td>\n",
       "      <td>2.0</td>\n",
       "      <td>98023</td>\n",
       "      <td>499</td>\n",
       "      <td>47.2822</td>\n",
       "      <td>-122.340</td>\n",
       "    </tr>\n",
       "    <tr>\n",
       "      <th>13</th>\n",
       "      <td>3832061060</td>\n",
       "      <td>311000.0</td>\n",
       "      <td>7</td>\n",
       "      <td>3</td>\n",
       "      <td>4</td>\n",
       "      <td>2.50</td>\n",
       "      <td>2690</td>\n",
       "      <td>6124</td>\n",
       "      <td>2.0</td>\n",
       "      <td>98042</td>\n",
       "      <td>547</td>\n",
       "      <td>47.3343</td>\n",
       "      <td>-122.058</td>\n",
       "    </tr>\n",
       "    <tr>\n",
       "      <th>15</th>\n",
       "      <td>9264910280</td>\n",
       "      <td>280500.0</td>\n",
       "      <td>8</td>\n",
       "      <td>3</td>\n",
       "      <td>4</td>\n",
       "      <td>2.75</td>\n",
       "      <td>2660</td>\n",
       "      <td>7754</td>\n",
       "      <td>1.5</td>\n",
       "      <td>98023</td>\n",
       "      <td>499</td>\n",
       "      <td>47.3078</td>\n",
       "      <td>-122.337</td>\n",
       "    </tr>\n",
       "    <tr>\n",
       "      <th>17</th>\n",
       "      <td>5416500840</td>\n",
       "      <td>320000.0</td>\n",
       "      <td>8</td>\n",
       "      <td>3</td>\n",
       "      <td>4</td>\n",
       "      <td>2.50</td>\n",
       "      <td>2570</td>\n",
       "      <td>4865</td>\n",
       "      <td>2.0</td>\n",
       "      <td>98038</td>\n",
       "      <td>589</td>\n",
       "      <td>47.3588</td>\n",
       "      <td>-122.038</td>\n",
       "    </tr>\n",
       "    <tr>\n",
       "      <th>22</th>\n",
       "      <td>1022059123</td>\n",
       "      <td>250000.0</td>\n",
       "      <td>7</td>\n",
       "      <td>4</td>\n",
       "      <td>6</td>\n",
       "      <td>2.50</td>\n",
       "      <td>2590</td>\n",
       "      <td>10890</td>\n",
       "      <td>1.0</td>\n",
       "      <td>98042</td>\n",
       "      <td>547</td>\n",
       "      <td>47.4126</td>\n",
       "      <td>-122.165</td>\n",
       "    </tr>\n",
       "    <tr>\n",
       "      <th>31</th>\n",
       "      <td>9478500570</td>\n",
       "      <td>300000.0</td>\n",
       "      <td>7</td>\n",
       "      <td>3</td>\n",
       "      <td>4</td>\n",
       "      <td>2.50</td>\n",
       "      <td>2620</td>\n",
       "      <td>4469</td>\n",
       "      <td>2.0</td>\n",
       "      <td>98042</td>\n",
       "      <td>547</td>\n",
       "      <td>47.3663</td>\n",
       "      <td>-122.115</td>\n",
       "    </tr>\n",
       "    <tr>\n",
       "      <th>34</th>\n",
       "      <td>9264911210</td>\n",
       "      <td>320000.0</td>\n",
       "      <td>8</td>\n",
       "      <td>3</td>\n",
       "      <td>5</td>\n",
       "      <td>3.00</td>\n",
       "      <td>2970</td>\n",
       "      <td>7000</td>\n",
       "      <td>1.0</td>\n",
       "      <td>98023</td>\n",
       "      <td>499</td>\n",
       "      <td>47.3079</td>\n",
       "      <td>-122.341</td>\n",
       "    </tr>\n",
       "    <tr>\n",
       "      <th>36</th>\n",
       "      <td>8562890910</td>\n",
       "      <td>320000.0</td>\n",
       "      <td>8</td>\n",
       "      <td>3</td>\n",
       "      <td>4</td>\n",
       "      <td>2.50</td>\n",
       "      <td>3490</td>\n",
       "      <td>5000</td>\n",
       "      <td>2.0</td>\n",
       "      <td>98042</td>\n",
       "      <td>547</td>\n",
       "      <td>47.3772</td>\n",
       "      <td>-122.127</td>\n",
       "    </tr>\n",
       "    <tr>\n",
       "      <th>39</th>\n",
       "      <td>1898900040</td>\n",
       "      <td>300000.0</td>\n",
       "      <td>8</td>\n",
       "      <td>3</td>\n",
       "      <td>4</td>\n",
       "      <td>2.50</td>\n",
       "      <td>2680</td>\n",
       "      <td>15508</td>\n",
       "      <td>2.0</td>\n",
       "      <td>98023</td>\n",
       "      <td>499</td>\n",
       "      <td>47.3025</td>\n",
       "      <td>-122.390</td>\n",
       "    </tr>\n",
       "    <tr>\n",
       "      <th>46</th>\n",
       "      <td>1156000250</td>\n",
       "      <td>320000.0</td>\n",
       "      <td>8</td>\n",
       "      <td>4</td>\n",
       "      <td>5</td>\n",
       "      <td>2.50</td>\n",
       "      <td>3020</td>\n",
       "      <td>21441</td>\n",
       "      <td>1.0</td>\n",
       "      <td>98042</td>\n",
       "      <td>547</td>\n",
       "      <td>47.3392</td>\n",
       "      <td>-122.131</td>\n",
       "    </tr>\n",
       "    <tr>\n",
       "      <th>48</th>\n",
       "      <td>6147650280</td>\n",
       "      <td>315000.0</td>\n",
       "      <td>7</td>\n",
       "      <td>3</td>\n",
       "      <td>4</td>\n",
       "      <td>2.50</td>\n",
       "      <td>3130</td>\n",
       "      <td>5999</td>\n",
       "      <td>2.0</td>\n",
       "      <td>98042</td>\n",
       "      <td>547</td>\n",
       "      <td>47.3837</td>\n",
       "      <td>-122.099</td>\n",
       "    </tr>\n",
       "    <tr>\n",
       "      <th>49</th>\n",
       "      <td>8731981640</td>\n",
       "      <td>277500.0</td>\n",
       "      <td>8</td>\n",
       "      <td>3</td>\n",
       "      <td>4</td>\n",
       "      <td>2.50</td>\n",
       "      <td>2550</td>\n",
       "      <td>7500</td>\n",
       "      <td>1.0</td>\n",
       "      <td>98023</td>\n",
       "      <td>499</td>\n",
       "      <td>47.3165</td>\n",
       "      <td>-122.386</td>\n",
       "    </tr>\n",
       "    <tr>\n",
       "      <th>50</th>\n",
       "      <td>2557000380</td>\n",
       "      <td>287500.0</td>\n",
       "      <td>8</td>\n",
       "      <td>4</td>\n",
       "      <td>4</td>\n",
       "      <td>2.50</td>\n",
       "      <td>2570</td>\n",
       "      <td>9000</td>\n",
       "      <td>1.0</td>\n",
       "      <td>98023</td>\n",
       "      <td>499</td>\n",
       "      <td>47.2986</td>\n",
       "      <td>-122.372</td>\n",
       "    </tr>\n",
       "    <tr>\n",
       "      <th>51</th>\n",
       "      <td>8731960050</td>\n",
       "      <td>302300.0</td>\n",
       "      <td>8</td>\n",
       "      <td>4</td>\n",
       "      <td>5</td>\n",
       "      <td>2.75</td>\n",
       "      <td>3130</td>\n",
       "      <td>9450</td>\n",
       "      <td>1.0</td>\n",
       "      <td>98023</td>\n",
       "      <td>499</td>\n",
       "      <td>47.3099</td>\n",
       "      <td>-122.384</td>\n",
       "    </tr>\n",
       "    <tr>\n",
       "      <th>52</th>\n",
       "      <td>6147650430</td>\n",
       "      <td>320000.0</td>\n",
       "      <td>7</td>\n",
       "      <td>3</td>\n",
       "      <td>4</td>\n",
       "      <td>2.50</td>\n",
       "      <td>3130</td>\n",
       "      <td>5200</td>\n",
       "      <td>2.0</td>\n",
       "      <td>98042</td>\n",
       "      <td>547</td>\n",
       "      <td>47.3828</td>\n",
       "      <td>-122.098</td>\n",
       "    </tr>\n",
       "    <tr>\n",
       "      <th>54</th>\n",
       "      <td>2517000600</td>\n",
       "      <td>315000.0</td>\n",
       "      <td>7</td>\n",
       "      <td>3</td>\n",
       "      <td>4</td>\n",
       "      <td>2.50</td>\n",
       "      <td>2780</td>\n",
       "      <td>3969</td>\n",
       "      <td>2.0</td>\n",
       "      <td>98042</td>\n",
       "      <td>547</td>\n",
       "      <td>47.3992</td>\n",
       "      <td>-122.164</td>\n",
       "    </tr>\n",
       "    <tr>\n",
       "      <th>57</th>\n",
       "      <td>1221039066</td>\n",
       "      <td>310000.0</td>\n",
       "      <td>8</td>\n",
       "      <td>4</td>\n",
       "      <td>4</td>\n",
       "      <td>2.50</td>\n",
       "      <td>3140</td>\n",
       "      <td>22100</td>\n",
       "      <td>1.0</td>\n",
       "      <td>98023</td>\n",
       "      <td>499</td>\n",
       "      <td>47.3190</td>\n",
       "      <td>-122.362</td>\n",
       "    </tr>\n",
       "    <tr>\n",
       "      <th>63</th>\n",
       "      <td>53500760</td>\n",
       "      <td>287000.0</td>\n",
       "      <td>7</td>\n",
       "      <td>3</td>\n",
       "      <td>4</td>\n",
       "      <td>2.50</td>\n",
       "      <td>2660</td>\n",
       "      <td>4082</td>\n",
       "      <td>2.0</td>\n",
       "      <td>98042</td>\n",
       "      <td>547</td>\n",
       "      <td>47.3414</td>\n",
       "      <td>-122.055</td>\n",
       "    </tr>\n",
       "    <tr>\n",
       "      <th>65</th>\n",
       "      <td>7896300592</td>\n",
       "      <td>303500.0</td>\n",
       "      <td>8</td>\n",
       "      <td>3</td>\n",
       "      <td>6</td>\n",
       "      <td>4.50</td>\n",
       "      <td>3390</td>\n",
       "      <td>7200</td>\n",
       "      <td>2.0</td>\n",
       "      <td>98118</td>\n",
       "      <td>507</td>\n",
       "      <td>47.5205</td>\n",
       "      <td>-122.288</td>\n",
       "    </tr>\n",
       "  </tbody>\n",
       "</table>\n",
       "</div>"
      ],
      "text/plain": [
       "            id     price  grade  condition  bedrooms  bathrooms  sqft_living  \\\n",
       "0   8731900200  320000.0      8          3         4       2.75         2640   \n",
       "1   9264902050  315000.0      8          3         6       2.75         2940   \n",
       "3   6699000810  315000.0      8          3         5       2.50         3220   \n",
       "4   7316400070  255000.0      7          3         5       3.75         2800   \n",
       "5   8732040090  307450.0      8          3         4       2.75         2690   \n",
       "9   9264910900  295500.0      8          3         4       2.50         2830   \n",
       "10  3021049140  300000.0      8          3         4       2.50         2890   \n",
       "13  3832061060  311000.0      7          3         4       2.50         2690   \n",
       "15  9264910280  280500.0      8          3         4       2.75         2660   \n",
       "17  5416500840  320000.0      8          3         4       2.50         2570   \n",
       "22  1022059123  250000.0      7          4         6       2.50         2590   \n",
       "31  9478500570  300000.0      7          3         4       2.50         2620   \n",
       "34  9264911210  320000.0      8          3         5       3.00         2970   \n",
       "36  8562890910  320000.0      8          3         4       2.50         3490   \n",
       "39  1898900040  300000.0      8          3         4       2.50         2680   \n",
       "46  1156000250  320000.0      8          4         5       2.50         3020   \n",
       "48  6147650280  315000.0      7          3         4       2.50         3130   \n",
       "49  8731981640  277500.0      8          3         4       2.50         2550   \n",
       "50  2557000380  287500.0      8          4         4       2.50         2570   \n",
       "51  8731960050  302300.0      8          4         5       2.75         3130   \n",
       "52  6147650430  320000.0      7          3         4       2.50         3130   \n",
       "54  2517000600  315000.0      7          3         4       2.50         2780   \n",
       "57  1221039066  310000.0      8          4         4       2.50         3140   \n",
       "63    53500760  287000.0      7          3         4       2.50         2660   \n",
       "65  7896300592  303500.0      8          3         6       4.50         3390   \n",
       "\n",
       "    sqft_lot  floors  zipcode  zip_counter      lat     long  \n",
       "0       7500     1.0    98023          499  47.3135 -122.369  \n",
       "1       7350     1.0    98023          499  47.3103 -122.339  \n",
       "3       5751     2.0    98042          547  47.3717 -122.104  \n",
       "4       9900     1.0    98023          499  47.3190 -122.344  \n",
       "5       8874     1.0    98023          499  47.3078 -122.383  \n",
       "9       7350     1.0    98023          499  47.3088 -122.341  \n",
       "10     17349     2.0    98023          499  47.2822 -122.340  \n",
       "13      6124     2.0    98042          547  47.3343 -122.058  \n",
       "15      7754     1.5    98023          499  47.3078 -122.337  \n",
       "17      4865     2.0    98038          589  47.3588 -122.038  \n",
       "22     10890     1.0    98042          547  47.4126 -122.165  \n",
       "31      4469     2.0    98042          547  47.3663 -122.115  \n",
       "34      7000     1.0    98023          499  47.3079 -122.341  \n",
       "36      5000     2.0    98042          547  47.3772 -122.127  \n",
       "39     15508     2.0    98023          499  47.3025 -122.390  \n",
       "46     21441     1.0    98042          547  47.3392 -122.131  \n",
       "48      5999     2.0    98042          547  47.3837 -122.099  \n",
       "49      7500     1.0    98023          499  47.3165 -122.386  \n",
       "50      9000     1.0    98023          499  47.2986 -122.372  \n",
       "51      9450     1.0    98023          499  47.3099 -122.384  \n",
       "52      5200     2.0    98042          547  47.3828 -122.098  \n",
       "54      3969     2.0    98042          547  47.3992 -122.164  \n",
       "57     22100     1.0    98023          499  47.3190 -122.362  \n",
       "63      4082     2.0    98042          547  47.3414 -122.055  \n",
       "65      7200     2.0    98118          507  47.5205 -122.288  "
      ]
     },
     "execution_count": 127,
     "metadata": {},
     "output_type": "execute_result"
    }
   ],
   "source": [
    "#Plot the data of the retrieved houses\n",
    "#Price, Bedrooms, Bathrooms, Grade, Condition, Zip_Counter,\n",
    "\n",
    "final = low25_bighouse_with_zipcounter75[['id','price', 'grade','condition', 'bedrooms', 'bathrooms', 'sqft_living', 'sqft_lot', 'floors', 'zipcode', 'zip_counter', 'lat', 'long']]\n",
    "\n",
    "final.head(30)"
   ]
  },
  {
   "cell_type": "code",
   "execution_count": 18,
   "id": "985b356b-9602-4c09-abd4-0cf06e5d512c",
   "metadata": {},
   "outputs": [],
   "source": [
    "#optional: grade, condition"
   ]
  },
  {
   "cell_type": "code",
   "execution_count": 195,
   "id": "19caf9b1-6466-42a8-b04c-4c8a4b72f36c",
   "metadata": {},
   "outputs": [
    {
     "data": {
      "application/vnd.plotly.v1+json": {
       "config": {
        "plotlyServerURL": "https://plot.ly"
       },
       "data": [
        {
         "customdata": [
          [
           47.3135,
           -122.369,
           320000,
           8,
           3,
           4,
           2.75,
           1,
           2640,
           499,
           8731900200
          ],
          [
           47.3103,
           -122.339,
           315000,
           8,
           3,
           6,
           2.75,
           1,
           2940,
           499,
           9264902050
          ],
          [
           47.3717,
           -122.104,
           315000,
           8,
           3,
           5,
           2.5,
           2,
           3220,
           547,
           6699000810
          ],
          [
           47.319,
           -122.344,
           255000,
           7,
           3,
           5,
           3.75,
           1,
           2800,
           499,
           7316400070
          ],
          [
           47.3078,
           -122.383,
           307450,
           8,
           3,
           4,
           2.75,
           1,
           2690,
           499,
           8732040090
          ],
          [
           47.3088,
           -122.341,
           295500,
           8,
           3,
           4,
           2.5,
           1,
           2830,
           499,
           9264910900
          ],
          [
           47.2822,
           -122.34,
           300000,
           8,
           3,
           4,
           2.5,
           2,
           2890,
           499,
           3021049140
          ],
          [
           47.3343,
           -122.058,
           311000,
           7,
           3,
           4,
           2.5,
           2,
           2690,
           547,
           3832061060
          ],
          [
           47.3078,
           -122.337,
           280500,
           8,
           3,
           4,
           2.75,
           1.5,
           2660,
           499,
           9264910280
          ],
          [
           47.3588,
           -122.038,
           320000,
           8,
           3,
           4,
           2.5,
           2,
           2570,
           589,
           5416500840
          ],
          [
           47.4126,
           -122.165,
           250000,
           7,
           4,
           6,
           2.5,
           1,
           2590,
           547,
           1022059123
          ],
          [
           47.3663,
           -122.115,
           300000,
           7,
           3,
           4,
           2.5,
           2,
           2620,
           547,
           9478500570
          ],
          [
           47.3079,
           -122.341,
           320000,
           8,
           3,
           5,
           3,
           1,
           2970,
           499,
           9264911210
          ],
          [
           47.3772,
           -122.127,
           320000,
           8,
           3,
           4,
           2.5,
           2,
           3490,
           547,
           8562890910
          ],
          [
           47.3025,
           -122.39,
           300000,
           8,
           3,
           4,
           2.5,
           2,
           2680,
           499,
           1898900040
          ],
          [
           47.3392,
           -122.131,
           320000,
           8,
           4,
           5,
           2.5,
           1,
           3020,
           547,
           1156000250
          ],
          [
           47.3837,
           -122.099,
           315000,
           7,
           3,
           4,
           2.5,
           2,
           3130,
           547,
           6147650280
          ],
          [
           47.3165,
           -122.386,
           277500,
           8,
           3,
           4,
           2.5,
           1,
           2550,
           499,
           8731981640
          ],
          [
           47.2986,
           -122.372,
           287500,
           8,
           4,
           4,
           2.5,
           1,
           2570,
           499,
           2557000380
          ],
          [
           47.3099,
           -122.384,
           302300,
           8,
           4,
           5,
           2.75,
           1,
           3130,
           499,
           8731960050
          ],
          [
           47.3828,
           -122.098,
           320000,
           7,
           3,
           4,
           2.5,
           2,
           3130,
           547,
           6147650430
          ],
          [
           47.3992,
           -122.164,
           315000,
           7,
           3,
           4,
           2.5,
           2,
           2780,
           547,
           2517000600
          ],
          [
           47.319,
           -122.362,
           310000,
           8,
           4,
           4,
           2.5,
           1,
           3140,
           499,
           1221039066
          ],
          [
           47.3414,
           -122.055,
           287000,
           7,
           3,
           4,
           2.5,
           2,
           2660,
           547,
           53500760
          ],
          [
           47.5205,
           -122.288,
           303500,
           8,
           3,
           6,
           4.5,
           2,
           3390,
           507,
           7896300592
          ]
         ],
         "geo": "geo",
         "hovertemplate": "<b>%{hovertext}</b><br><br>price=%{marker.color}<br>grade=%{customdata[3]}<br>condition=%{customdata[4]}<br>bedrooms=%{customdata[5]}<br>bathrooms=%{customdata[6]}<br>floors=%{customdata[7]}<br>sqft_living=%{customdata[8]}<br>zip_counter=%{customdata[9]}<br>id=%{customdata[10]}<extra></extra>",
         "hovertext": [
          98023,
          98023,
          98042,
          98023,
          98023,
          98023,
          98023,
          98042,
          98023,
          98038,
          98042,
          98042,
          98023,
          98042,
          98023,
          98042,
          98042,
          98023,
          98023,
          98023,
          98042,
          98042,
          98023,
          98042,
          98118
         ],
         "lat": [
          47.3135,
          47.3103,
          47.3717,
          47.319,
          47.3078,
          47.3088,
          47.2822,
          47.3343,
          47.3078,
          47.3588,
          47.4126,
          47.3663,
          47.3079,
          47.3772,
          47.3025,
          47.3392,
          47.3837,
          47.3165,
          47.2986,
          47.3099,
          47.3828,
          47.3992,
          47.319,
          47.3414,
          47.5205
         ],
         "legendgroup": "",
         "lon": [
          -122.369,
          -122.339,
          -122.104,
          -122.344,
          -122.383,
          -122.341,
          -122.34,
          -122.058,
          -122.337,
          -122.038,
          -122.165,
          -122.115,
          -122.341,
          -122.127,
          -122.39,
          -122.131,
          -122.099,
          -122.386,
          -122.372,
          -122.384,
          -122.098,
          -122.164,
          -122.362,
          -122.055,
          -122.288
         ],
         "marker": {
          "color": [
           320000,
           315000,
           315000,
           255000,
           307450,
           295500,
           300000,
           311000,
           280500,
           320000,
           250000,
           300000,
           320000,
           320000,
           300000,
           320000,
           315000,
           277500,
           287500,
           302300,
           320000,
           315000,
           310000,
           287000,
           303500
          ],
          "coloraxis": "coloraxis",
          "symbol": "circle"
         },
         "mode": "markers",
         "name": "",
         "showlegend": false,
         "type": "scattergeo"
        }
       ],
       "layout": {
        "autosize": true,
        "coloraxis": {
         "colorbar": {
          "title": {
           "text": "price"
          }
         },
         "colorscale": [
          [
           0,
           "#0d0887"
          ],
          [
           0.1111111111111111,
           "#46039f"
          ],
          [
           0.2222222222222222,
           "#7201a8"
          ],
          [
           0.3333333333333333,
           "#9c179e"
          ],
          [
           0.4444444444444444,
           "#bd3786"
          ],
          [
           0.5555555555555556,
           "#d8576b"
          ],
          [
           0.6666666666666666,
           "#ed7953"
          ],
          [
           0.7777777777777778,
           "#fb9f3a"
          ],
          [
           0.8888888888888888,
           "#fdca26"
          ],
          [
           1,
           "#f0f921"
          ]
         ]
        },
        "geo": {
         "center": {},
         "domain": {
          "x": [
           0,
           1
          ],
          "y": [
           0,
           1
          ]
         },
         "fitbounds": "locations"
        },
        "legend": {
         "tracegroupgap": 0
        },
        "margin": {
         "t": 60
        },
        "template": {
         "data": {
          "bar": [
           {
            "error_x": {
             "color": "#2a3f5f"
            },
            "error_y": {
             "color": "#2a3f5f"
            },
            "marker": {
             "line": {
              "color": "#E5ECF6",
              "width": 0.5
             },
             "pattern": {
              "fillmode": "overlay",
              "size": 10,
              "solidity": 0.2
             }
            },
            "type": "bar"
           }
          ],
          "barpolar": [
           {
            "marker": {
             "line": {
              "color": "#E5ECF6",
              "width": 0.5
             },
             "pattern": {
              "fillmode": "overlay",
              "size": 10,
              "solidity": 0.2
             }
            },
            "type": "barpolar"
           }
          ],
          "carpet": [
           {
            "aaxis": {
             "endlinecolor": "#2a3f5f",
             "gridcolor": "white",
             "linecolor": "white",
             "minorgridcolor": "white",
             "startlinecolor": "#2a3f5f"
            },
            "baxis": {
             "endlinecolor": "#2a3f5f",
             "gridcolor": "white",
             "linecolor": "white",
             "minorgridcolor": "white",
             "startlinecolor": "#2a3f5f"
            },
            "type": "carpet"
           }
          ],
          "choropleth": [
           {
            "colorbar": {
             "outlinewidth": 0,
             "ticks": ""
            },
            "type": "choropleth"
           }
          ],
          "contour": [
           {
            "colorbar": {
             "outlinewidth": 0,
             "ticks": ""
            },
            "colorscale": [
             [
              0,
              "#0d0887"
             ],
             [
              0.1111111111111111,
              "#46039f"
             ],
             [
              0.2222222222222222,
              "#7201a8"
             ],
             [
              0.3333333333333333,
              "#9c179e"
             ],
             [
              0.4444444444444444,
              "#bd3786"
             ],
             [
              0.5555555555555556,
              "#d8576b"
             ],
             [
              0.6666666666666666,
              "#ed7953"
             ],
             [
              0.7777777777777778,
              "#fb9f3a"
             ],
             [
              0.8888888888888888,
              "#fdca26"
             ],
             [
              1,
              "#f0f921"
             ]
            ],
            "type": "contour"
           }
          ],
          "contourcarpet": [
           {
            "colorbar": {
             "outlinewidth": 0,
             "ticks": ""
            },
            "type": "contourcarpet"
           }
          ],
          "heatmap": [
           {
            "colorbar": {
             "outlinewidth": 0,
             "ticks": ""
            },
            "colorscale": [
             [
              0,
              "#0d0887"
             ],
             [
              0.1111111111111111,
              "#46039f"
             ],
             [
              0.2222222222222222,
              "#7201a8"
             ],
             [
              0.3333333333333333,
              "#9c179e"
             ],
             [
              0.4444444444444444,
              "#bd3786"
             ],
             [
              0.5555555555555556,
              "#d8576b"
             ],
             [
              0.6666666666666666,
              "#ed7953"
             ],
             [
              0.7777777777777778,
              "#fb9f3a"
             ],
             [
              0.8888888888888888,
              "#fdca26"
             ],
             [
              1,
              "#f0f921"
             ]
            ],
            "type": "heatmap"
           }
          ],
          "heatmapgl": [
           {
            "colorbar": {
             "outlinewidth": 0,
             "ticks": ""
            },
            "colorscale": [
             [
              0,
              "#0d0887"
             ],
             [
              0.1111111111111111,
              "#46039f"
             ],
             [
              0.2222222222222222,
              "#7201a8"
             ],
             [
              0.3333333333333333,
              "#9c179e"
             ],
             [
              0.4444444444444444,
              "#bd3786"
             ],
             [
              0.5555555555555556,
              "#d8576b"
             ],
             [
              0.6666666666666666,
              "#ed7953"
             ],
             [
              0.7777777777777778,
              "#fb9f3a"
             ],
             [
              0.8888888888888888,
              "#fdca26"
             ],
             [
              1,
              "#f0f921"
             ]
            ],
            "type": "heatmapgl"
           }
          ],
          "histogram": [
           {
            "marker": {
             "pattern": {
              "fillmode": "overlay",
              "size": 10,
              "solidity": 0.2
             }
            },
            "type": "histogram"
           }
          ],
          "histogram2d": [
           {
            "colorbar": {
             "outlinewidth": 0,
             "ticks": ""
            },
            "colorscale": [
             [
              0,
              "#0d0887"
             ],
             [
              0.1111111111111111,
              "#46039f"
             ],
             [
              0.2222222222222222,
              "#7201a8"
             ],
             [
              0.3333333333333333,
              "#9c179e"
             ],
             [
              0.4444444444444444,
              "#bd3786"
             ],
             [
              0.5555555555555556,
              "#d8576b"
             ],
             [
              0.6666666666666666,
              "#ed7953"
             ],
             [
              0.7777777777777778,
              "#fb9f3a"
             ],
             [
              0.8888888888888888,
              "#fdca26"
             ],
             [
              1,
              "#f0f921"
             ]
            ],
            "type": "histogram2d"
           }
          ],
          "histogram2dcontour": [
           {
            "colorbar": {
             "outlinewidth": 0,
             "ticks": ""
            },
            "colorscale": [
             [
              0,
              "#0d0887"
             ],
             [
              0.1111111111111111,
              "#46039f"
             ],
             [
              0.2222222222222222,
              "#7201a8"
             ],
             [
              0.3333333333333333,
              "#9c179e"
             ],
             [
              0.4444444444444444,
              "#bd3786"
             ],
             [
              0.5555555555555556,
              "#d8576b"
             ],
             [
              0.6666666666666666,
              "#ed7953"
             ],
             [
              0.7777777777777778,
              "#fb9f3a"
             ],
             [
              0.8888888888888888,
              "#fdca26"
             ],
             [
              1,
              "#f0f921"
             ]
            ],
            "type": "histogram2dcontour"
           }
          ],
          "mesh3d": [
           {
            "colorbar": {
             "outlinewidth": 0,
             "ticks": ""
            },
            "type": "mesh3d"
           }
          ],
          "parcoords": [
           {
            "line": {
             "colorbar": {
              "outlinewidth": 0,
              "ticks": ""
             }
            },
            "type": "parcoords"
           }
          ],
          "pie": [
           {
            "automargin": true,
            "type": "pie"
           }
          ],
          "scatter": [
           {
            "marker": {
             "colorbar": {
              "outlinewidth": 0,
              "ticks": ""
             }
            },
            "type": "scatter"
           }
          ],
          "scatter3d": [
           {
            "line": {
             "colorbar": {
              "outlinewidth": 0,
              "ticks": ""
             }
            },
            "marker": {
             "colorbar": {
              "outlinewidth": 0,
              "ticks": ""
             }
            },
            "type": "scatter3d"
           }
          ],
          "scattercarpet": [
           {
            "marker": {
             "colorbar": {
              "outlinewidth": 0,
              "ticks": ""
             }
            },
            "type": "scattercarpet"
           }
          ],
          "scattergeo": [
           {
            "marker": {
             "colorbar": {
              "outlinewidth": 0,
              "ticks": ""
             }
            },
            "type": "scattergeo"
           }
          ],
          "scattergl": [
           {
            "marker": {
             "colorbar": {
              "outlinewidth": 0,
              "ticks": ""
             }
            },
            "type": "scattergl"
           }
          ],
          "scattermapbox": [
           {
            "marker": {
             "colorbar": {
              "outlinewidth": 0,
              "ticks": ""
             }
            },
            "type": "scattermapbox"
           }
          ],
          "scatterpolar": [
           {
            "marker": {
             "colorbar": {
              "outlinewidth": 0,
              "ticks": ""
             }
            },
            "type": "scatterpolar"
           }
          ],
          "scatterpolargl": [
           {
            "marker": {
             "colorbar": {
              "outlinewidth": 0,
              "ticks": ""
             }
            },
            "type": "scatterpolargl"
           }
          ],
          "scatterternary": [
           {
            "marker": {
             "colorbar": {
              "outlinewidth": 0,
              "ticks": ""
             }
            },
            "type": "scatterternary"
           }
          ],
          "surface": [
           {
            "colorbar": {
             "outlinewidth": 0,
             "ticks": ""
            },
            "colorscale": [
             [
              0,
              "#0d0887"
             ],
             [
              0.1111111111111111,
              "#46039f"
             ],
             [
              0.2222222222222222,
              "#7201a8"
             ],
             [
              0.3333333333333333,
              "#9c179e"
             ],
             [
              0.4444444444444444,
              "#bd3786"
             ],
             [
              0.5555555555555556,
              "#d8576b"
             ],
             [
              0.6666666666666666,
              "#ed7953"
             ],
             [
              0.7777777777777778,
              "#fb9f3a"
             ],
             [
              0.8888888888888888,
              "#fdca26"
             ],
             [
              1,
              "#f0f921"
             ]
            ],
            "type": "surface"
           }
          ],
          "table": [
           {
            "cells": {
             "fill": {
              "color": "#EBF0F8"
             },
             "line": {
              "color": "white"
             }
            },
            "header": {
             "fill": {
              "color": "#C8D4E3"
             },
             "line": {
              "color": "white"
             }
            },
            "type": "table"
           }
          ]
         },
         "layout": {
          "annotationdefaults": {
           "arrowcolor": "#2a3f5f",
           "arrowhead": 0,
           "arrowwidth": 1
          },
          "autotypenumbers": "strict",
          "coloraxis": {
           "colorbar": {
            "outlinewidth": 0,
            "ticks": ""
           }
          },
          "colorscale": {
           "diverging": [
            [
             0,
             "#8e0152"
            ],
            [
             0.1,
             "#c51b7d"
            ],
            [
             0.2,
             "#de77ae"
            ],
            [
             0.3,
             "#f1b6da"
            ],
            [
             0.4,
             "#fde0ef"
            ],
            [
             0.5,
             "#f7f7f7"
            ],
            [
             0.6,
             "#e6f5d0"
            ],
            [
             0.7,
             "#b8e186"
            ],
            [
             0.8,
             "#7fbc41"
            ],
            [
             0.9,
             "#4d9221"
            ],
            [
             1,
             "#276419"
            ]
           ],
           "sequential": [
            [
             0,
             "#0d0887"
            ],
            [
             0.1111111111111111,
             "#46039f"
            ],
            [
             0.2222222222222222,
             "#7201a8"
            ],
            [
             0.3333333333333333,
             "#9c179e"
            ],
            [
             0.4444444444444444,
             "#bd3786"
            ],
            [
             0.5555555555555556,
             "#d8576b"
            ],
            [
             0.6666666666666666,
             "#ed7953"
            ],
            [
             0.7777777777777778,
             "#fb9f3a"
            ],
            [
             0.8888888888888888,
             "#fdca26"
            ],
            [
             1,
             "#f0f921"
            ]
           ],
           "sequentialminus": [
            [
             0,
             "#0d0887"
            ],
            [
             0.1111111111111111,
             "#46039f"
            ],
            [
             0.2222222222222222,
             "#7201a8"
            ],
            [
             0.3333333333333333,
             "#9c179e"
            ],
            [
             0.4444444444444444,
             "#bd3786"
            ],
            [
             0.5555555555555556,
             "#d8576b"
            ],
            [
             0.6666666666666666,
             "#ed7953"
            ],
            [
             0.7777777777777778,
             "#fb9f3a"
            ],
            [
             0.8888888888888888,
             "#fdca26"
            ],
            [
             1,
             "#f0f921"
            ]
           ]
          },
          "colorway": [
           "#636efa",
           "#EF553B",
           "#00cc96",
           "#ab63fa",
           "#FFA15A",
           "#19d3f3",
           "#FF6692",
           "#B6E880",
           "#FF97FF",
           "#FECB52"
          ],
          "font": {
           "color": "#2a3f5f"
          },
          "geo": {
           "bgcolor": "white",
           "lakecolor": "white",
           "landcolor": "#E5ECF6",
           "showlakes": true,
           "showland": true,
           "subunitcolor": "white"
          },
          "hoverlabel": {
           "align": "left"
          },
          "hovermode": "closest",
          "mapbox": {
           "style": "light"
          },
          "paper_bgcolor": "white",
          "plot_bgcolor": "#E5ECF6",
          "polar": {
           "angularaxis": {
            "gridcolor": "white",
            "linecolor": "white",
            "ticks": ""
           },
           "bgcolor": "#E5ECF6",
           "radialaxis": {
            "gridcolor": "white",
            "linecolor": "white",
            "ticks": ""
           }
          },
          "scene": {
           "xaxis": {
            "backgroundcolor": "#E5ECF6",
            "gridcolor": "white",
            "gridwidth": 2,
            "linecolor": "white",
            "showbackground": true,
            "ticks": "",
            "zerolinecolor": "white"
           },
           "yaxis": {
            "backgroundcolor": "#E5ECF6",
            "gridcolor": "white",
            "gridwidth": 2,
            "linecolor": "white",
            "showbackground": true,
            "ticks": "",
            "zerolinecolor": "white"
           },
           "zaxis": {
            "backgroundcolor": "#E5ECF6",
            "gridcolor": "white",
            "gridwidth": 2,
            "linecolor": "white",
            "showbackground": true,
            "ticks": "",
            "zerolinecolor": "white"
           }
          },
          "shapedefaults": {
           "line": {
            "color": "#2a3f5f"
           }
          },
          "ternary": {
           "aaxis": {
            "gridcolor": "white",
            "linecolor": "white",
            "ticks": ""
           },
           "baxis": {
            "gridcolor": "white",
            "linecolor": "white",
            "ticks": ""
           },
           "bgcolor": "#E5ECF6",
           "caxis": {
            "gridcolor": "white",
            "linecolor": "white",
            "ticks": ""
           }
          },
          "title": {
           "x": 0.05
          },
          "xaxis": {
           "automargin": true,
           "gridcolor": "white",
           "linecolor": "white",
           "ticks": "",
           "title": {
            "standoff": 15
           },
           "zerolinecolor": "white",
           "zerolinewidth": 2
          },
          "yaxis": {
           "automargin": true,
           "gridcolor": "white",
           "linecolor": "white",
           "ticks": "",
           "title": {
            "standoff": 15
           },
           "zerolinecolor": "white",
           "zerolinewidth": 2
          }
         }
        },
        "title": {
         "text": "King County houses"
        }
       }
      },
      "image/png": "[encoded data removed]",
      "text/html": [
       "<div>                            <div id=\"c8a87215-c58b-4590-8750-43d9afdf3568\" class=\"plotly-graph-div\" style=\"height:525px; width:100%;\"></div>            <script type=\"text/javascript\">                require([\"plotly\"], function(Plotly) {                    window.PLOTLYENV=window.PLOTLYENV || {};                                    if (document.getElementById(\"c8a87215-c58b-4590-8750-43d9afdf3568\")) {                    Plotly.newPlot(                        \"c8a87215-c58b-4590-8750-43d9afdf3568\",                        [{\"customdata\":[[47.3135,-122.369,320000.0,8.0,3.0,4.0,2.75,1.0,2640.0,499.0,8731900200.0],[47.3103,-122.339,315000.0,8.0,3.0,6.0,2.75,1.0,2940.0,499.0,9264902050.0],[47.3717,-122.104,315000.0,8.0,3.0,5.0,2.5,2.0,3220.0,547.0,6699000810.0],[47.319,-122.344,255000.0,7.0,3.0,5.0,3.75,1.0,2800.0,499.0,7316400070.0],[47.3078,-122.383,307450.0,8.0,3.0,4.0,2.75,1.0,2690.0,499.0,8732040090.0],[47.3088,-122.341,295500.0,8.0,3.0,4.0,2.5,1.0,2830.0,499.0,9264910900.0],[47.2822,-122.34,300000.0,8.0,3.0,4.0,2.5,2.0,2890.0,499.0,3021049140.0],[47.3343,-122.058,311000.0,7.0,3.0,4.0,2.5,2.0,2690.0,547.0,3832061060.0],[47.3078,-122.337,280500.0,8.0,3.0,4.0,2.75,1.5,2660.0,499.0,9264910280.0],[47.3588,-122.038,320000.0,8.0,3.0,4.0,2.5,2.0,2570.0,589.0,5416500840.0],[47.4126,-122.165,250000.0,7.0,4.0,6.0,2.5,1.0,2590.0,547.0,1022059123.0],[47.3663,-122.115,300000.0,7.0,3.0,4.0,2.5,2.0,2620.0,547.0,9478500570.0],[47.3079,-122.341,320000.0,8.0,3.0,5.0,3.0,1.0,2970.0,499.0,9264911210.0],[47.3772,-122.127,320000.0,8.0,3.0,4.0,2.5,2.0,3490.0,547.0,8562890910.0],[47.3025,-122.39,300000.0,8.0,3.0,4.0,2.5,2.0,2680.0,499.0,1898900040.0],[47.3392,-122.131,320000.0,8.0,4.0,5.0,2.5,1.0,3020.0,547.0,1156000250.0],[47.3837,-122.099,315000.0,7.0,3.0,4.0,2.5,2.0,3130.0,547.0,6147650280.0],[47.3165,-122.386,277500.0,8.0,3.0,4.0,2.5,1.0,2550.0,499.0,8731981640.0],[47.2986,-122.372,287500.0,8.0,4.0,4.0,2.5,1.0,2570.0,499.0,2557000380.0],[47.3099,-122.384,302300.0,8.0,4.0,5.0,2.75,1.0,3130.0,499.0,8731960050.0],[47.3828,-122.098,320000.0,7.0,3.0,4.0,2.5,2.0,3130.0,547.0,6147650430.0],[47.3992,-122.164,315000.0,7.0,3.0,4.0,2.5,2.0,2780.0,547.0,2517000600.0],[47.319,-122.362,310000.0,8.0,4.0,4.0,2.5,1.0,3140.0,499.0,1221039066.0],[47.3414,-122.055,287000.0,7.0,3.0,4.0,2.5,2.0,2660.0,547.0,53500760.0],[47.5205,-122.288,303500.0,8.0,3.0,6.0,4.5,2.0,3390.0,507.0,7896300592.0]],\"geo\":\"geo\",\"hovertemplate\":\"<b>%{hovertext}</b><br><br>price=%{marker.color}<br>grade=%{customdata[3]}<br>condition=%{customdata[4]}<br>bedrooms=%{customdata[5]}<br>bathrooms=%{customdata[6]}<br>floors=%{customdata[7]}<br>sqft_living=%{customdata[8]}<br>zip_counter=%{customdata[9]}<br>id=%{customdata[10]}<extra></extra>\",\"hovertext\":[98023.0,98023.0,98042.0,98023.0,98023.0,98023.0,98023.0,98042.0,98023.0,98038.0,98042.0,98042.0,98023.0,98042.0,98023.0,98042.0,98042.0,98023.0,98023.0,98023.0,98042.0,98042.0,98023.0,98042.0,98118.0],\"lat\":[47.3135,47.3103,47.3717,47.319,47.3078,47.3088,47.2822,47.3343,47.3078,47.3588,47.4126,47.3663,47.3079,47.3772,47.3025,47.3392,47.3837,47.3165,47.2986,47.3099,47.3828,47.3992,47.319,47.3414,47.5205],\"legendgroup\":\"\",\"lon\":[-122.369,-122.339,-122.104,-122.344,-122.383,-122.341,-122.34,-122.058,-122.337,-122.038,-122.165,-122.115,-122.341,-122.127,-122.39,-122.131,-122.099,-122.386,-122.372,-122.384,-122.098,-122.164,-122.362,-122.055,-122.288],\"marker\":{\"color\":[320000.0,315000.0,315000.0,255000.0,307450.0,295500.0,300000.0,311000.0,280500.0,320000.0,250000.0,300000.0,320000.0,320000.0,300000.0,320000.0,315000.0,277500.0,287500.0,302300.0,320000.0,315000.0,310000.0,287000.0,303500.0],\"coloraxis\":\"coloraxis\",\"symbol\":\"circle\"},\"mode\":\"markers\",\"name\":\"\",\"showlegend\":false,\"type\":\"scattergeo\"}],                        {\"template\":{\"data\":{\"bar\":[{\"error_x\":{\"color\":\"#2a3f5f\"},\"error_y\":{\"color\":\"#2a3f5f\"},\"marker\":{\"line\":{\"color\":\"#E5ECF6\",\"width\":0.5},\"pattern\":{\"fillmode\":\"overlay\",\"size\":10,\"solidity\":0.2}},\"type\":\"bar\"}],\"barpolar\":[{\"marker\":{\"line\":{\"color\":\"#E5ECF6\",\"width\":0.5},\"pattern\":{\"fillmode\":\"overlay\",\"size\":10,\"solidity\":0.2}},\"type\":\"barpolar\"}],\"carpet\":[{\"aaxis\":{\"endlinecolor\":\"#2a3f5f\",\"gridcolor\":\"white\",\"linecolor\":\"white\",\"minorgridcolor\":\"white\",\"startlinecolor\":\"#2a3f5f\"},\"baxis\":{\"endlinecolor\":\"#2a3f5f\",\"gridcolor\":\"white\",\"linecolor\":\"white\",\"minorgridcolor\":\"white\",\"startlinecolor\":\"#2a3f5f\"},\"type\":\"carpet\"}],\"choropleth\":[{\"colorbar\":{\"outlinewidth\":0,\"ticks\":\"\"},\"type\":\"choropleth\"}],\"contour\":[{\"colorbar\":{\"outlinewidth\":0,\"ticks\":\"\"},\"colorscale\":[[0.0,\"#0d0887\"],[0.1111111111111111,\"#46039f\"],[0.2222222222222222,\"#7201a8\"],[0.3333333333333333,\"#9c179e\"],[0.4444444444444444,\"#bd3786\"],[0.5555555555555556,\"#d8576b\"],[0.6666666666666666,\"#ed7953\"],[0.7777777777777778,\"#fb9f3a\"],[0.8888888888888888,\"#fdca26\"],[1.0,\"#f0f921\"]],\"type\":\"contour\"}],\"contourcarpet\":[{\"colorbar\":{\"outlinewidth\":0,\"ticks\":\"\"},\"type\":\"contourcarpet\"}],\"heatmap\":[{\"colorbar\":{\"outlinewidth\":0,\"ticks\":\"\"},\"colorscale\":[[0.0,\"#0d0887\"],[0.1111111111111111,\"#46039f\"],[0.2222222222222222,\"#7201a8\"],[0.3333333333333333,\"#9c179e\"],[0.4444444444444444,\"#bd3786\"],[0.5555555555555556,\"#d8576b\"],[0.6666666666666666,\"#ed7953\"],[0.7777777777777778,\"#fb9f3a\"],[0.8888888888888888,\"#fdca26\"],[1.0,\"#f0f921\"]],\"type\":\"heatmap\"}],\"heatmapgl\":[{\"colorbar\":{\"outlinewidth\":0,\"ticks\":\"\"},\"colorscale\":[[0.0,\"#0d0887\"],[0.1111111111111111,\"#46039f\"],[0.2222222222222222,\"#7201a8\"],[0.3333333333333333,\"#9c179e\"],[0.4444444444444444,\"#bd3786\"],[0.5555555555555556,\"#d8576b\"],[0.6666666666666666,\"#ed7953\"],[0.7777777777777778,\"#fb9f3a\"],[0.8888888888888888,\"#fdca26\"],[1.0,\"#f0f921\"]],\"type\":\"heatmapgl\"}],\"histogram\":[{\"marker\":{\"pattern\":{\"fillmode\":\"overlay\",\"size\":10,\"solidity\":0.2}},\"type\":\"histogram\"}],\"histogram2d\":[{\"colorbar\":{\"outlinewidth\":0,\"ticks\":\"\"},\"colorscale\":[[0.0,\"#0d0887\"],[0.1111111111111111,\"#46039f\"],[0.2222222222222222,\"#7201a8\"],[0.3333333333333333,\"#9c179e\"],[0.4444444444444444,\"#bd3786\"],[0.5555555555555556,\"#d8576b\"],[0.6666666666666666,\"#ed7953\"],[0.7777777777777778,\"#fb9f3a\"],[0.8888888888888888,\"#fdca26\"],[1.0,\"#f0f921\"]],\"type\":\"histogram2d\"}],\"histogram2dcontour\":[{\"colorbar\":{\"outlinewidth\":0,\"ticks\":\"\"},\"colorscale\":[[0.0,\"#0d0887\"],[0.1111111111111111,\"#46039f\"],[0.2222222222222222,\"#7201a8\"],[0.3333333333333333,\"#9c179e\"],[0.4444444444444444,\"#bd3786\"],[0.5555555555555556,\"#d8576b\"],[0.6666666666666666,\"#ed7953\"],[0.7777777777777778,\"#fb9f3a\"],[0.8888888888888888,\"#fdca26\"],[1.0,\"#f0f921\"]],\"type\":\"histogram2dcontour\"}],\"mesh3d\":[{\"colorbar\":{\"outlinewidth\":0,\"ticks\":\"\"},\"type\":\"mesh3d\"}],\"parcoords\":[{\"line\":{\"colorbar\":{\"outlinewidth\":0,\"ticks\":\"\"}},\"type\":\"parcoords\"}],\"pie\":[{\"automargin\":true,\"type\":\"pie\"}],\"scatter\":[{\"marker\":{\"colorbar\":{\"outlinewidth\":0,\"ticks\":\"\"}},\"type\":\"scatter\"}],\"scatter3d\":[{\"line\":{\"colorbar\":{\"outlinewidth\":0,\"ticks\":\"\"}},\"marker\":{\"colorbar\":{\"outlinewidth\":0,\"ticks\":\"\"}},\"type\":\"scatter3d\"}],\"scattercarpet\":[{\"marker\":{\"colorbar\":{\"outlinewidth\":0,\"ticks\":\"\"}},\"type\":\"scattercarpet\"}],\"scattergeo\":[{\"marker\":{\"colorbar\":{\"outlinewidth\":0,\"ticks\":\"\"}},\"type\":\"scattergeo\"}],\"scattergl\":[{\"marker\":{\"colorbar\":{\"outlinewidth\":0,\"ticks\":\"\"}},\"type\":\"scattergl\"}],\"scattermapbox\":[{\"marker\":{\"colorbar\":{\"outlinewidth\":0,\"ticks\":\"\"}},\"type\":\"scattermapbox\"}],\"scatterpolar\":[{\"marker\":{\"colorbar\":{\"outlinewidth\":0,\"ticks\":\"\"}},\"type\":\"scatterpolar\"}],\"scatterpolargl\":[{\"marker\":{\"colorbar\":{\"outlinewidth\":0,\"ticks\":\"\"}},\"type\":\"scatterpolargl\"}],\"scatterternary\":[{\"marker\":{\"colorbar\":{\"outlinewidth\":0,\"ticks\":\"\"}},\"type\":\"scatterternary\"}],\"surface\":[{\"colorbar\":{\"outlinewidth\":0,\"ticks\":\"\"},\"colorscale\":[[0.0,\"#0d0887\"],[0.1111111111111111,\"#46039f\"],[0.2222222222222222,\"#7201a8\"],[0.3333333333333333,\"#9c179e\"],[0.4444444444444444,\"#bd3786\"],[0.5555555555555556,\"#d8576b\"],[0.6666666666666666,\"#ed7953\"],[0.7777777777777778,\"#fb9f3a\"],[0.8888888888888888,\"#fdca26\"],[1.0,\"#f0f921\"]],\"type\":\"surface\"}],\"table\":[{\"cells\":{\"fill\":{\"color\":\"#EBF0F8\"},\"line\":{\"color\":\"white\"}},\"header\":{\"fill\":{\"color\":\"#C8D4E3\"},\"line\":{\"color\":\"white\"}},\"type\":\"table\"}]},\"layout\":{\"annotationdefaults\":{\"arrowcolor\":\"#2a3f5f\",\"arrowhead\":0,\"arrowwidth\":1},\"autotypenumbers\":\"strict\",\"coloraxis\":{\"colorbar\":{\"outlinewidth\":0,\"ticks\":\"\"}},\"colorscale\":{\"diverging\":[[0,\"#8e0152\"],[0.1,\"#c51b7d\"],[0.2,\"#de77ae\"],[0.3,\"#f1b6da\"],[0.4,\"#fde0ef\"],[0.5,\"#f7f7f7\"],[0.6,\"#e6f5d0\"],[0.7,\"#b8e186\"],[0.8,\"#7fbc41\"],[0.9,\"#4d9221\"],[1,\"#276419\"]],\"sequential\":[[0.0,\"#0d0887\"],[0.1111111111111111,\"#46039f\"],[0.2222222222222222,\"#7201a8\"],[0.3333333333333333,\"#9c179e\"],[0.4444444444444444,\"#bd3786\"],[0.5555555555555556,\"#d8576b\"],[0.6666666666666666,\"#ed7953\"],[0.7777777777777778,\"#fb9f3a\"],[0.8888888888888888,\"#fdca26\"],[1.0,\"#f0f921\"]],\"sequentialminus\":[[0.0,\"#0d0887\"],[0.1111111111111111,\"#46039f\"],[0.2222222222222222,\"#7201a8\"],[0.3333333333333333,\"#9c179e\"],[0.4444444444444444,\"#bd3786\"],[0.5555555555555556,\"#d8576b\"],[0.6666666666666666,\"#ed7953\"],[0.7777777777777778,\"#fb9f3a\"],[0.8888888888888888,\"#fdca26\"],[1.0,\"#f0f921\"]]},\"colorway\":[\"#636efa\",\"#EF553B\",\"#00cc96\",\"#ab63fa\",\"#FFA15A\",\"#19d3f3\",\"#FF6692\",\"#B6E880\",\"#FF97FF\",\"#FECB52\"],\"font\":{\"color\":\"#2a3f5f\"},\"geo\":{\"bgcolor\":\"white\",\"lakecolor\":\"white\",\"landcolor\":\"#E5ECF6\",\"showlakes\":true,\"showland\":true,\"subunitcolor\":\"white\"},\"hoverlabel\":{\"align\":\"left\"},\"hovermode\":\"closest\",\"mapbox\":{\"style\":\"light\"},\"paper_bgcolor\":\"white\",\"plot_bgcolor\":\"#E5ECF6\",\"polar\":{\"angularaxis\":{\"gridcolor\":\"white\",\"linecolor\":\"white\",\"ticks\":\"\"},\"bgcolor\":\"#E5ECF6\",\"radialaxis\":{\"gridcolor\":\"white\",\"linecolor\":\"white\",\"ticks\":\"\"}},\"scene\":{\"xaxis\":{\"backgroundcolor\":\"#E5ECF6\",\"gridcolor\":\"white\",\"gridwidth\":2,\"linecolor\":\"white\",\"showbackground\":true,\"ticks\":\"\",\"zerolinecolor\":\"white\"},\"yaxis\":{\"backgroundcolor\":\"#E5ECF6\",\"gridcolor\":\"white\",\"gridwidth\":2,\"linecolor\":\"white\",\"showbackground\":true,\"ticks\":\"\",\"zerolinecolor\":\"white\"},\"zaxis\":{\"backgroundcolor\":\"#E5ECF6\",\"gridcolor\":\"white\",\"gridwidth\":2,\"linecolor\":\"white\",\"showbackground\":true,\"ticks\":\"\",\"zerolinecolor\":\"white\"}},\"shapedefaults\":{\"line\":{\"color\":\"#2a3f5f\"}},\"ternary\":{\"aaxis\":{\"gridcolor\":\"white\",\"linecolor\":\"white\",\"ticks\":\"\"},\"baxis\":{\"gridcolor\":\"white\",\"linecolor\":\"white\",\"ticks\":\"\"},\"bgcolor\":\"#E5ECF6\",\"caxis\":{\"gridcolor\":\"white\",\"linecolor\":\"white\",\"ticks\":\"\"}},\"title\":{\"x\":0.05},\"xaxis\":{\"automargin\":true,\"gridcolor\":\"white\",\"linecolor\":\"white\",\"ticks\":\"\",\"title\":{\"standoff\":15},\"zerolinecolor\":\"white\",\"zerolinewidth\":2},\"yaxis\":{\"automargin\":true,\"gridcolor\":\"white\",\"linecolor\":\"white\",\"ticks\":\"\",\"title\":{\"standoff\":15},\"zerolinecolor\":\"white\",\"zerolinewidth\":2}}},\"geo\":{\"domain\":{\"x\":[0.0,1.0],\"y\":[0.0,1.0]},\"center\":{},\"fitbounds\":\"locations\"},\"coloraxis\":{\"colorbar\":{\"title\":{\"text\":\"price\"}},\"colorscale\":[[0.0,\"#0d0887\"],[0.1111111111111111,\"#46039f\"],[0.2222222222222222,\"#7201a8\"],[0.3333333333333333,\"#9c179e\"],[0.4444444444444444,\"#bd3786\"],[0.5555555555555556,\"#d8576b\"],[0.6666666666666666,\"#ed7953\"],[0.7777777777777778,\"#fb9f3a\"],[0.8888888888888888,\"#fdca26\"],[1.0,\"#f0f921\"]]},\"legend\":{\"tracegroupgap\":0},\"margin\":{\"t\":60},\"title\":{\"text\":\"King County houses\"}},                        {\"responsive\": true}                    ).then(function(){\n",
       "                            \n",
       "var gd = document.getElementById('c8a87215-c58b-4590-8750-43d9afdf3568');\n",
       "var x = new MutationObserver(function (mutations, observer) {{\n",
       "        var display = window.getComputedStyle(gd).display;\n",
       "        if (!display || display === 'none') {{\n",
       "            console.log([gd, 'removed!']);\n",
       "            Plotly.purge(gd);\n",
       "            observer.disconnect();\n",
       "        }}\n",
       "}});\n",
       "\n",
       "// Listen for the removal of the full notebook cells\n",
       "var notebookContainer = gd.closest('#notebook-container');\n",
       "if (notebookContainer) {{\n",
       "    x.observe(notebookContainer, {childList: true});\n",
       "}}\n",
       "\n",
       "// Listen for the clearing of the current output cell\n",
       "var outputEl = gd.closest('.output');\n",
       "if (outputEl) {{\n",
       "    x.observe(outputEl, {childList: true});\n",
       "}}\n",
       "\n",
       "                        })                };                });            </script>        </div>"
      ]
     },
     "metadata": {},
     "output_type": "display_data"
    }
   ],
   "source": [
    "#Build a map as an overview for all datapoints\n",
    "fig = px.scatter_geo(final, lat=final.lat, lon=final.long, hover_name=\"zipcode\", \n",
    "                     hover_data={\"lat\":False, 'long':False, \"price\":True, \"grade\":True, \"condition\":True, \"bedrooms\":True, \"bathrooms\":True, \n",
    "                                 \"floors\":True, \"sqft_living\":True, 'zip_counter':True, \"id\":True},\n",
    "                     color='price')\n",
    "fig.update_layout(title = 'King County houses').update_geos(fitbounds='locations')\n",
    "\n",
    "fig.show()"
   ]
  },
  {
   "cell_type": "code",
   "execution_count": null,
   "id": "0c8dd5c2-ec3a-4d83-a2e7-23d7ed4f4a6d",
   "metadata": {},
   "outputs": [],
   "source": [
    "#Plot all relevant data from found houses as individual house_chart"
   ]
  },
  {
   "cell_type": "code",
   "execution_count": null,
   "id": "538ddcb3-3e26-4b5c-a385-2014bba6f063",
   "metadata": {},
   "outputs": [],
   "source": []
  }
 ],
 "metadata": {
  "kernelspec": {
   "display_name": "Python 3 (ipykernel)",
   "language": "python",
   "name": "python3"
  },
  "language_info": {
   "codemirror_mode": {
    "name": "ipython",
    "version": 3
   },
   "file_extension": ".py",
   "mimetype": "text/x-python",
   "name": "python",
   "nbconvert_exporter": "python",
   "pygments_lexer": "ipython3",
   "version": "3.9.4"
  }
 },
 "nbformat": 4,
 "nbformat_minor": 5
}
